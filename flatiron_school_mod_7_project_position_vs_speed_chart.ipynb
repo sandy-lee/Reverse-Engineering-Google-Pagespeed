{
 "cells": [
  {
   "cell_type": "markdown",
   "metadata": {},
   "source": [
    "# Flatiron School Mod_7 project - Ranking vs. Pagespeed Chart"
   ]
  },
  {
   "cell_type": "code",
   "execution_count": 1,
   "metadata": {},
   "outputs": [],
   "source": [
    "import pandas as pd\n",
    "import numpy as np\n",
    "import seaborn as sns\n",
    "import matplotlib.pyplot as plt"
   ]
  },
  {
   "cell_type": "code",
   "execution_count": 2,
   "metadata": {},
   "outputs": [
    {
     "ename": "NameError",
     "evalue": "name 'glob' is not defined",
     "output_type": "error",
     "traceback": [
      "\u001b[0;31m---------------------------------------------------------------------------\u001b[0m",
      "\u001b[0;31mNameError\u001b[0m                                 Traceback (most recent call last)",
      "\u001b[0;32m<ipython-input-2-0aa009081342>\u001b[0m in \u001b[0;36m<module>\u001b[0;34m\u001b[0m\n\u001b[0;32m----> 1\u001b[0;31m \u001b[0mfilenames\u001b[0m \u001b[0;34m=\u001b[0m \u001b[0mglob\u001b[0m\u001b[0;34m(\u001b[0m\u001b[0;34m'pagespeed_csvs/pagespeed_results_*.csv'\u001b[0m\u001b[0;34m)\u001b[0m\u001b[0;34m\u001b[0m\u001b[0m\n\u001b[0m\u001b[1;32m      2\u001b[0m \u001b[0mdataframes\u001b[0m \u001b[0;34m=\u001b[0m \u001b[0;34m[\u001b[0m\u001b[0mpd\u001b[0m\u001b[0;34m.\u001b[0m\u001b[0mread_csv\u001b[0m\u001b[0;34m(\u001b[0m\u001b[0mf\u001b[0m\u001b[0;34m)\u001b[0m \u001b[0;32mfor\u001b[0m \u001b[0mf\u001b[0m \u001b[0;32min\u001b[0m \u001b[0mfilenames\u001b[0m\u001b[0;34m]\u001b[0m\u001b[0;34m\u001b[0m\u001b[0m\n\u001b[1;32m      3\u001b[0m \u001b[0mpagespeed_df\u001b[0m \u001b[0;34m=\u001b[0m \u001b[0mpd\u001b[0m\u001b[0;34m.\u001b[0m\u001b[0mconcat\u001b[0m\u001b[0;34m(\u001b[0m\u001b[0mdataframes\u001b[0m\u001b[0;34m)\u001b[0m\u001b[0;34m\u001b[0m\u001b[0m\n\u001b[1;32m      4\u001b[0m pagespeed_df.columns = (['address',\n\u001b[1;32m      5\u001b[0m                          \u001b[0;34m'first_contentful_paint'\u001b[0m\u001b[0;34m,\u001b[0m\u001b[0;34m\u001b[0m\u001b[0m\n",
      "\u001b[0;31mNameError\u001b[0m: name 'glob' is not defined"
     ]
    }
   ],
   "source": [
    "filenames = glob('pagespeed_csvs/pagespeed_results_*.csv')\n",
    "dataframes = [pd.read_csv(f) for f in filenames]\n",
    "pagespeed_df = pd.concat(dataframes)\n",
    "pagespeed_df.columns = (['address',\n",
    "                         'first_contentful_paint',\n",
    "                         'time_to_interactive',\n",
    "                         'time_to_first_byte',\n",
    "                         'dom_size',\n",
    "                         'boot_up_time',\n",
    "                         'first_meaningful_paint',\n",
    "                         'speed_index',\n",
    "                         'total_blocking_time',\n",
    "                         'network_requests',\n",
    "                         'total_byte_weight'])\n",
    "pagespeed_df.drop_duplicates(subset = 'address',keep='first', inplace = True)\n",
    "pagespeed_df.dropna(inplace = True)\n",
    "for index in range(1,10):\n",
    "    pagespeed_df.iloc[:,index] = pagespeed_df.iloc[:,index].astype(np.float64)\n",
    "pagespeed_df.drop(labels = ['address'], axis = 1, inplace = True)\n",
    "pagespeed_df.reset_index(inplace=True)\n",
    "pagespeed_df.drop(labels = ['index'], axis = 1, inplace = True)"
   ]
  },
  {
   "cell_type": "code",
   "execution_count": null,
   "metadata": {},
   "outputs": [],
   "source": []
  }
 ],
 "metadata": {
  "kernelspec": {
   "display_name": "Python [conda env:learn-env] *",
   "language": "python",
   "name": "conda-env-learn-env-py"
  },
  "language_info": {
   "codemirror_mode": {
    "name": "ipython",
    "version": 3
   },
   "file_extension": ".py",
   "mimetype": "text/x-python",
   "name": "python",
   "nbconvert_exporter": "python",
   "pygments_lexer": "ipython3",
   "version": "3.6.6"
  }
 },
 "nbformat": 4,
 "nbformat_minor": 4
}
