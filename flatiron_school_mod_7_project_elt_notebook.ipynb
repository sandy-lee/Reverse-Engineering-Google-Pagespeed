{
 "cells": [
  {
   "cell_type": "markdown",
   "metadata": {},
   "source": [
    "# Flatiron School Mod_7 project - ELT Notebook"
   ]
  },
  {
   "cell_type": "code",
   "execution_count": 164,
   "metadata": {},
   "outputs": [],
   "source": [
    "import pandas as pd\n",
    "import numpy as np\n",
    "import seaborn as sns\n",
    "import matplotlib.pyplot as plt\n",
    "import notebook_toolkit as nt #external scripts for processing data\n",
    "from glob import glob"
   ]
  },
  {
   "cell_type": "markdown",
   "metadata": {},
   "source": [
    "## Import pagespeed result CSVs"
   ]
  },
  {
   "cell_type": "code",
   "execution_count": 165,
   "metadata": {},
   "outputs": [],
   "source": [
    "filenames = glob('pagespeed_csvs/pagespeed_results_*.csv')\n",
    "dataframes = [pd.read_csv(f) for f in filenames]\n",
    "pagespeed_df = pd.concat(dataframes)"
   ]
  },
  {
   "cell_type": "markdown",
   "metadata": {},
   "source": [
    "### Reset index & drop duplicated index"
   ]
  },
  {
   "cell_type": "code",
   "execution_count": 166,
   "metadata": {},
   "outputs": [],
   "source": [
    "pagespeed_df.reset_index(inplace = True)\n",
    "pagespeed_df.drop(labels = \"index\", inplace = True, axis = 1)"
   ]
  },
  {
   "cell_type": "markdown",
   "metadata": {},
   "source": [
    "### Drop duplicate rows"
   ]
  },
  {
   "cell_type": "code",
   "execution_count": 167,
   "metadata": {},
   "outputs": [],
   "source": [
    "pagespeed_df.drop_duplicates(subset = 'URL',keep='first', inplace=True)"
   ]
  },
  {
   "cell_type": "markdown",
   "metadata": {},
   "source": [
    "### Drop columns with null values"
   ]
  },
  {
   "cell_type": "code",
   "execution_count": 168,
   "metadata": {},
   "outputs": [],
   "source": [
    "pagespeed_df.dropna(inplace=True)"
   ]
  },
  {
   "cell_type": "markdown",
   "metadata": {},
   "source": [
    "### Correct datatypes"
   ]
  },
  {
   "cell_type": "code",
   "execution_count": 169,
   "metadata": {},
   "outputs": [],
   "source": [
    "for index in range(1,10):\n",
    "    pagespeed_df.iloc[:,index] = pagespeed_df.iloc[:,index].astype(np.float64)"
   ]
  },
  {
   "cell_type": "markdown",
   "metadata": {},
   "source": [
    "### Make Column names more useful"
   ]
  },
  {
   "cell_type": "code",
   "execution_count": 170,
   "metadata": {},
   "outputs": [],
   "source": [
    "pagespeed_df.columns = (['address',\n",
    "                         'first_contentful_paint',\n",
    "                         'time_to_interactive',\n",
    "                         'time_to_first_byte',\n",
    "                         'dom_size',\n",
    "                         'boot_up_time',\n",
    "                         'first_meaningful_paint',\n",
    "                         'speed_index',\n",
    "                         'total_blocking_time',\n",
    "                         'network_requests',\n",
    "                         'total_byte_weight'])"
   ]
  },
  {
   "cell_type": "markdown",
   "metadata": {},
   "source": [
    "### Check units are correct for the dataset "
   ]
  },
  {
   "cell_type": "markdown",
   "metadata": {},
   "source": [
    "* **Address** - URL of the page that the page speed data is about - unit: n/a\n",
    "* **First Contentful Paint** - First contentful paint marks the time at which the first text or image is painted. [Learn more](https://web.dev/first-contentful-paint). - unit: **ms**\n",
    "* **Time to Interactive** - First contentful paint marks the time at which the first text or image is painted. [Learn more](https://web.dev/first-contentful-paint). - unit: **ms**\n",
    "* **Time to First Byte** - Time to first byte identifies the time at which your server sends a response. [Learn more](https://web.dev/time-to-first-byte). - unit: **ms**\n",
    "* **DOM Size** - Browser engineers recommend pages contain fewer than ~1,500 DOM elements. The sweet spot is a tree depth \\u003c 32 elements and fewer than 60 children/parent element. A large DOM can increase memory usage, cause longer [style calculations](https://developers.google.com/web/fundamentals/performance/rendering/reduce-the-scope-and-complexity-of-style-calculations) and produce costly [layout reflows](https://developers.google.com/speed/articles/reflow). [Learn more](https://web.dev/dom-size). - unit: **no. of elements**\n",
    "* **Boot Up Time** - Consider reducing the time spent parsing, compiling and executing JS. You may find delivering smaller JS payloads helps with this. [Learn more](https://web.dev/bootup-time). - units **ms**\n",
    "* **First Meaningful Paint** - First meaningful paint measures when the primary content of a page is visible. [Learn more](https://web.dev/first-meaningful-paint). - units **ms**\n",
    "* **Speed Index** - Speed Index shows how quickly the contents of a page are visibly populated. [Learn more](https://web.dev/speed-index). - units **ms**\n",
    "* **Total Blocking Time** - sum of all time periods between FCP and Time to Interactive, when task length exceeded 50ms, expressed in milliseconds. - units **ms**\n",
    "* **Network Requests** - Lists the network requests that were made during page load. - units **no. of requests**\n",
    "* **Total Byte Weight** - Large network payloads cost users real money and are highly correlated with long load times. [Learn more](https://web.dev/total-byte-weight). - units **bytes**"
   ]
  },
  {
   "cell_type": "markdown",
   "metadata": {},
   "source": [
    "### Final Pagespeed Dataframe"
   ]
  },
  {
   "cell_type": "code",
   "execution_count": 171,
   "metadata": {},
   "outputs": [
    {
     "name": "stdout",
     "output_type": "stream",
     "text": [
      "<class 'pandas.core.frame.DataFrame'>\n",
      "Int64Index: 70135 entries, 0 to 137496\n",
      "Data columns (total 11 columns):\n",
      " #   Column                  Non-Null Count  Dtype  \n",
      "---  ------                  --------------  -----  \n",
      " 0   address                 70135 non-null  object \n",
      " 1   first_contentful_paint  70135 non-null  float64\n",
      " 2   time_to_interactive     70135 non-null  float64\n",
      " 3   time_to_first_byte      70135 non-null  float64\n",
      " 4   dom_size                70135 non-null  float64\n",
      " 5   boot_up_time            70135 non-null  float64\n",
      " 6   first_meaningful_paint  70135 non-null  float64\n",
      " 7   speed_index             70135 non-null  float64\n",
      " 8   total_blocking_time     70135 non-null  float64\n",
      " 9   network_requests        70135 non-null  float64\n",
      " 10  total_byte_weight       70135 non-null  float64\n",
      "dtypes: float64(10), object(1)\n",
      "memory usage: 6.4+ MB\n"
     ]
    }
   ],
   "source": [
    "pagespeed_df.info()"
   ]
  },
  {
   "cell_type": "code",
   "execution_count": 172,
   "metadata": {},
   "outputs": [
    {
     "data": {
      "text/html": [
       "<div>\n",
       "<style scoped>\n",
       "    .dataframe tbody tr th:only-of-type {\n",
       "        vertical-align: middle;\n",
       "    }\n",
       "\n",
       "    .dataframe tbody tr th {\n",
       "        vertical-align: top;\n",
       "    }\n",
       "\n",
       "    .dataframe thead th {\n",
       "        text-align: right;\n",
       "    }\n",
       "</style>\n",
       "<table border=\"1\" class=\"dataframe\">\n",
       "  <thead>\n",
       "    <tr style=\"text-align: right;\">\n",
       "      <th></th>\n",
       "      <th>address</th>\n",
       "      <th>first_contentful_paint</th>\n",
       "      <th>time_to_interactive</th>\n",
       "      <th>time_to_first_byte</th>\n",
       "      <th>dom_size</th>\n",
       "      <th>boot_up_time</th>\n",
       "      <th>first_meaningful_paint</th>\n",
       "      <th>speed_index</th>\n",
       "      <th>total_blocking_time</th>\n",
       "      <th>network_requests</th>\n",
       "      <th>total_byte_weight</th>\n",
       "    </tr>\n",
       "  </thead>\n",
       "  <tbody>\n",
       "    <tr>\n",
       "      <th>0</th>\n",
       "      <td>https://www.asdafoundation.org/</td>\n",
       "      <td>1275.0</td>\n",
       "      <td>1410.0</td>\n",
       "      <td>609.853</td>\n",
       "      <td>137.0</td>\n",
       "      <td>8.471</td>\n",
       "      <td>1410.0</td>\n",
       "      <td>2129.675696</td>\n",
       "      <td>0.0</td>\n",
       "      <td>43.0</td>\n",
       "      <td>309579.0</td>\n",
       "    </tr>\n",
       "    <tr>\n",
       "      <th>1</th>\n",
       "      <td>https://www.americanstampdealer.com/</td>\n",
       "      <td>908.0</td>\n",
       "      <td>908.0</td>\n",
       "      <td>883.182</td>\n",
       "      <td>676.0</td>\n",
       "      <td>36.641</td>\n",
       "      <td>908.0</td>\n",
       "      <td>1870.638039</td>\n",
       "      <td>0.0</td>\n",
       "      <td>29.0</td>\n",
       "      <td>608118.0</td>\n",
       "    </tr>\n",
       "    <tr>\n",
       "      <th>2</th>\n",
       "      <td>https://www.asdagoodliving.co.uk/</td>\n",
       "      <td>1035.0</td>\n",
       "      <td>1193.5</td>\n",
       "      <td>768.089</td>\n",
       "      <td>1339.0</td>\n",
       "      <td>436.294</td>\n",
       "      <td>1165.0</td>\n",
       "      <td>2184.859293</td>\n",
       "      <td>18.5</td>\n",
       "      <td>54.0</td>\n",
       "      <td>1248103.0</td>\n",
       "    </tr>\n",
       "    <tr>\n",
       "      <th>3</th>\n",
       "      <td>http://www.asdatoday.com/</td>\n",
       "      <td>590.0</td>\n",
       "      <td>2785.0</td>\n",
       "      <td>358.059</td>\n",
       "      <td>326.0</td>\n",
       "      <td>282.680</td>\n",
       "      <td>656.0</td>\n",
       "      <td>1180.783589</td>\n",
       "      <td>25.5</td>\n",
       "      <td>45.0</td>\n",
       "      <td>5422097.0</td>\n",
       "    </tr>\n",
       "    <tr>\n",
       "      <th>4</th>\n",
       "      <td>https://downdetector.co.uk/status/asda/</td>\n",
       "      <td>708.0</td>\n",
       "      <td>4630.0</td>\n",
       "      <td>385.969</td>\n",
       "      <td>2195.0</td>\n",
       "      <td>1796.401</td>\n",
       "      <td>748.0</td>\n",
       "      <td>1771.028798</td>\n",
       "      <td>60.0</td>\n",
       "      <td>326.0</td>\n",
       "      <td>2833017.0</td>\n",
       "    </tr>\n",
       "    <tr>\n",
       "      <th>...</th>\n",
       "      <td>...</td>\n",
       "      <td>...</td>\n",
       "      <td>...</td>\n",
       "      <td>...</td>\n",
       "      <td>...</td>\n",
       "      <td>...</td>\n",
       "      <td>...</td>\n",
       "      <td>...</td>\n",
       "      <td>...</td>\n",
       "      <td>...</td>\n",
       "      <td>...</td>\n",
       "    </tr>\n",
       "    <tr>\n",
       "      <th>137488</th>\n",
       "      <td>https://www.crunchbase.com/person/stephen-curry</td>\n",
       "      <td>580.0</td>\n",
       "      <td>3963.5</td>\n",
       "      <td>590.610</td>\n",
       "      <td>1921.0</td>\n",
       "      <td>2567.223</td>\n",
       "      <td>1612.0</td>\n",
       "      <td>1637.243066</td>\n",
       "      <td>973.5</td>\n",
       "      <td>85.0</td>\n",
       "      <td>1832888.0</td>\n",
       "    </tr>\n",
       "    <tr>\n",
       "      <th>137490</th>\n",
       "      <td>https://www.sfchronicle.com/warriors/article/S...</td>\n",
       "      <td>1219.0</td>\n",
       "      <td>10640.0</td>\n",
       "      <td>238.884</td>\n",
       "      <td>1184.0</td>\n",
       "      <td>3168.110</td>\n",
       "      <td>1219.0</td>\n",
       "      <td>4341.616309</td>\n",
       "      <td>208.0</td>\n",
       "      <td>575.0</td>\n",
       "      <td>5890014.0</td>\n",
       "    </tr>\n",
       "    <tr>\n",
       "      <th>137493</th>\n",
       "      <td>https://www.cbssports.com/nba/players/playerpa...</td>\n",
       "      <td>953.0</td>\n",
       "      <td>9365.5</td>\n",
       "      <td>1590.511</td>\n",
       "      <td>2298.0</td>\n",
       "      <td>4762.252</td>\n",
       "      <td>953.0</td>\n",
       "      <td>4540.687065</td>\n",
       "      <td>625.5</td>\n",
       "      <td>457.0</td>\n",
       "      <td>6759435.0</td>\n",
       "    </tr>\n",
       "    <tr>\n",
       "      <th>137495</th>\n",
       "      <td>https://www.khou.com/article/news/health/coron...</td>\n",
       "      <td>712.0</td>\n",
       "      <td>15833.5</td>\n",
       "      <td>402.752</td>\n",
       "      <td>1077.0</td>\n",
       "      <td>9590.345</td>\n",
       "      <td>1077.0</td>\n",
       "      <td>6676.864039</td>\n",
       "      <td>667.5</td>\n",
       "      <td>1093.0</td>\n",
       "      <td>7843296.0</td>\n",
       "    </tr>\n",
       "    <tr>\n",
       "      <th>137496</th>\n",
       "      <td>https://www.youtube.com/user/rottentomatoes</td>\n",
       "      <td>854.0</td>\n",
       "      <td>4756.0</td>\n",
       "      <td>1905.459</td>\n",
       "      <td>5817.0</td>\n",
       "      <td>3503.440</td>\n",
       "      <td>2775.5</td>\n",
       "      <td>4414.815834</td>\n",
       "      <td>748.5</td>\n",
       "      <td>89.0</td>\n",
       "      <td>3513270.0</td>\n",
       "    </tr>\n",
       "  </tbody>\n",
       "</table>\n",
       "<p>70135 rows × 11 columns</p>\n",
       "</div>"
      ],
      "text/plain": [
       "                                                  address  \\\n",
       "0                         https://www.asdafoundation.org/   \n",
       "1                    https://www.americanstampdealer.com/   \n",
       "2                       https://www.asdagoodliving.co.uk/   \n",
       "3                               http://www.asdatoday.com/   \n",
       "4                 https://downdetector.co.uk/status/asda/   \n",
       "...                                                   ...   \n",
       "137488    https://www.crunchbase.com/person/stephen-curry   \n",
       "137490  https://www.sfchronicle.com/warriors/article/S...   \n",
       "137493  https://www.cbssports.com/nba/players/playerpa...   \n",
       "137495  https://www.khou.com/article/news/health/coron...   \n",
       "137496        https://www.youtube.com/user/rottentomatoes   \n",
       "\n",
       "        first_contentful_paint  time_to_interactive  time_to_first_byte  \\\n",
       "0                       1275.0               1410.0             609.853   \n",
       "1                        908.0                908.0             883.182   \n",
       "2                       1035.0               1193.5             768.089   \n",
       "3                        590.0               2785.0             358.059   \n",
       "4                        708.0               4630.0             385.969   \n",
       "...                        ...                  ...                 ...   \n",
       "137488                   580.0               3963.5             590.610   \n",
       "137490                  1219.0              10640.0             238.884   \n",
       "137493                   953.0               9365.5            1590.511   \n",
       "137495                   712.0              15833.5             402.752   \n",
       "137496                   854.0               4756.0            1905.459   \n",
       "\n",
       "        dom_size  boot_up_time  first_meaningful_paint  speed_index  \\\n",
       "0          137.0         8.471                  1410.0  2129.675696   \n",
       "1          676.0        36.641                   908.0  1870.638039   \n",
       "2         1339.0       436.294                  1165.0  2184.859293   \n",
       "3          326.0       282.680                   656.0  1180.783589   \n",
       "4         2195.0      1796.401                   748.0  1771.028798   \n",
       "...          ...           ...                     ...          ...   \n",
       "137488    1921.0      2567.223                  1612.0  1637.243066   \n",
       "137490    1184.0      3168.110                  1219.0  4341.616309   \n",
       "137493    2298.0      4762.252                   953.0  4540.687065   \n",
       "137495    1077.0      9590.345                  1077.0  6676.864039   \n",
       "137496    5817.0      3503.440                  2775.5  4414.815834   \n",
       "\n",
       "        total_blocking_time  network_requests  total_byte_weight  \n",
       "0                       0.0              43.0           309579.0  \n",
       "1                       0.0              29.0           608118.0  \n",
       "2                      18.5              54.0          1248103.0  \n",
       "3                      25.5              45.0          5422097.0  \n",
       "4                      60.0             326.0          2833017.0  \n",
       "...                     ...               ...                ...  \n",
       "137488                973.5              85.0          1832888.0  \n",
       "137490                208.0             575.0          5890014.0  \n",
       "137493                625.5             457.0          6759435.0  \n",
       "137495                667.5            1093.0          7843296.0  \n",
       "137496                748.5              89.0          3513270.0  \n",
       "\n",
       "[70135 rows x 11 columns]"
      ]
     },
     "execution_count": 172,
     "metadata": {},
     "output_type": "execute_result"
    }
   ],
   "source": [
    "pagespeed_df"
   ]
  },
  {
   "cell_type": "markdown",
   "metadata": {},
   "source": [
    "## Import Ranking data csv"
   ]
  },
  {
   "cell_type": "code",
   "execution_count": 173,
   "metadata": {},
   "outputs": [],
   "source": [
    "serp_df = pd.read_csv(\"serp_results_csvs/serp_results.csv\")"
   ]
  },
  {
   "cell_type": "markdown",
   "metadata": {},
   "source": [
    "### Drop irrelevant columns"
   ]
  },
  {
   "cell_type": "code",
   "execution_count": 174,
   "metadata": {},
   "outputs": [],
   "source": [
    "serp_df.drop(columns=\"Unnamed: 0\", inplace=True)"
   ]
  },
  {
   "cell_type": "markdown",
   "metadata": {},
   "source": [
    "### Rename columns to something more meaningful for the merge"
   ]
  },
  {
   "cell_type": "code",
   "execution_count": 175,
   "metadata": {},
   "outputs": [],
   "source": [
    "serp_df.columns = (['keyword',\n",
    "                    'position',\n",
    "                    'address'])"
   ]
  },
  {
   "cell_type": "markdown",
   "metadata": {},
   "source": [
    "### Merge Datasets"
   ]
  },
  {
   "cell_type": "code",
   "execution_count": 176,
   "metadata": {},
   "outputs": [],
   "source": [
    "final_df = pagespeed_df.merge(serp_df,on=\"address\")"
   ]
  },
  {
   "cell_type": "markdown",
   "metadata": {},
   "source": [
    "### Final Merged Dataframe"
   ]
  },
  {
   "cell_type": "code",
   "execution_count": 177,
   "metadata": {},
   "outputs": [
    {
     "name": "stdout",
     "output_type": "stream",
     "text": [
      "<class 'pandas.core.frame.DataFrame'>\n",
      "Int64Index: 72218 entries, 0 to 72217\n",
      "Data columns (total 13 columns):\n",
      " #   Column                  Non-Null Count  Dtype  \n",
      "---  ------                  --------------  -----  \n",
      " 0   address                 72218 non-null  object \n",
      " 1   first_contentful_paint  72218 non-null  float64\n",
      " 2   time_to_interactive     72218 non-null  float64\n",
      " 3   time_to_first_byte      72218 non-null  float64\n",
      " 4   dom_size                72218 non-null  float64\n",
      " 5   boot_up_time            72218 non-null  float64\n",
      " 6   first_meaningful_paint  72218 non-null  float64\n",
      " 7   speed_index             72218 non-null  float64\n",
      " 8   total_blocking_time     72218 non-null  float64\n",
      " 9   network_requests        72218 non-null  float64\n",
      " 10  total_byte_weight       72218 non-null  float64\n",
      " 11  keyword                 72218 non-null  object \n",
      " 12  position                72218 non-null  int64  \n",
      "dtypes: float64(10), int64(1), object(2)\n",
      "memory usage: 7.7+ MB\n"
     ]
    }
   ],
   "source": [
    "final_df.info()"
   ]
  },
  {
   "cell_type": "code",
   "execution_count": 178,
   "metadata": {},
   "outputs": [
    {
     "data": {
      "text/html": [
       "<div>\n",
       "<style scoped>\n",
       "    .dataframe tbody tr th:only-of-type {\n",
       "        vertical-align: middle;\n",
       "    }\n",
       "\n",
       "    .dataframe tbody tr th {\n",
       "        vertical-align: top;\n",
       "    }\n",
       "\n",
       "    .dataframe thead th {\n",
       "        text-align: right;\n",
       "    }\n",
       "</style>\n",
       "<table border=\"1\" class=\"dataframe\">\n",
       "  <thead>\n",
       "    <tr style=\"text-align: right;\">\n",
       "      <th></th>\n",
       "      <th>address</th>\n",
       "      <th>first_contentful_paint</th>\n",
       "      <th>time_to_interactive</th>\n",
       "      <th>time_to_first_byte</th>\n",
       "      <th>dom_size</th>\n",
       "      <th>boot_up_time</th>\n",
       "      <th>first_meaningful_paint</th>\n",
       "      <th>speed_index</th>\n",
       "      <th>total_blocking_time</th>\n",
       "      <th>network_requests</th>\n",
       "      <th>total_byte_weight</th>\n",
       "      <th>keyword</th>\n",
       "      <th>position</th>\n",
       "    </tr>\n",
       "  </thead>\n",
       "  <tbody>\n",
       "    <tr>\n",
       "      <th>0</th>\n",
       "      <td>https://www.asdafoundation.org/</td>\n",
       "      <td>1275.0</td>\n",
       "      <td>1410.0</td>\n",
       "      <td>609.853</td>\n",
       "      <td>137.0</td>\n",
       "      <td>8.471</td>\n",
       "      <td>1410.0</td>\n",
       "      <td>2129.675696</td>\n",
       "      <td>0.0</td>\n",
       "      <td>43.0</td>\n",
       "      <td>309579.0</td>\n",
       "      <td>asda</td>\n",
       "      <td>26</td>\n",
       "    </tr>\n",
       "    <tr>\n",
       "      <th>1</th>\n",
       "      <td>https://www.americanstampdealer.com/</td>\n",
       "      <td>908.0</td>\n",
       "      <td>908.0</td>\n",
       "      <td>883.182</td>\n",
       "      <td>676.0</td>\n",
       "      <td>36.641</td>\n",
       "      <td>908.0</td>\n",
       "      <td>1870.638039</td>\n",
       "      <td>0.0</td>\n",
       "      <td>29.0</td>\n",
       "      <td>608118.0</td>\n",
       "      <td>asda</td>\n",
       "      <td>31</td>\n",
       "    </tr>\n",
       "    <tr>\n",
       "      <th>2</th>\n",
       "      <td>https://www.asdagoodliving.co.uk/</td>\n",
       "      <td>1035.0</td>\n",
       "      <td>1193.5</td>\n",
       "      <td>768.089</td>\n",
       "      <td>1339.0</td>\n",
       "      <td>436.294</td>\n",
       "      <td>1165.0</td>\n",
       "      <td>2184.859293</td>\n",
       "      <td>18.5</td>\n",
       "      <td>54.0</td>\n",
       "      <td>1248103.0</td>\n",
       "      <td>asda</td>\n",
       "      <td>29</td>\n",
       "    </tr>\n",
       "    <tr>\n",
       "      <th>3</th>\n",
       "      <td>http://www.asdatoday.com/</td>\n",
       "      <td>590.0</td>\n",
       "      <td>2785.0</td>\n",
       "      <td>358.059</td>\n",
       "      <td>326.0</td>\n",
       "      <td>282.680</td>\n",
       "      <td>656.0</td>\n",
       "      <td>1180.783589</td>\n",
       "      <td>25.5</td>\n",
       "      <td>45.0</td>\n",
       "      <td>5422097.0</td>\n",
       "      <td>asda</td>\n",
       "      <td>36</td>\n",
       "    </tr>\n",
       "    <tr>\n",
       "      <th>4</th>\n",
       "      <td>https://downdetector.co.uk/status/asda/</td>\n",
       "      <td>708.0</td>\n",
       "      <td>4630.0</td>\n",
       "      <td>385.969</td>\n",
       "      <td>2195.0</td>\n",
       "      <td>1796.401</td>\n",
       "      <td>748.0</td>\n",
       "      <td>1771.028798</td>\n",
       "      <td>60.0</td>\n",
       "      <td>326.0</td>\n",
       "      <td>2833017.0</td>\n",
       "      <td>asda</td>\n",
       "      <td>34</td>\n",
       "    </tr>\n",
       "    <tr>\n",
       "      <th>...</th>\n",
       "      <td>...</td>\n",
       "      <td>...</td>\n",
       "      <td>...</td>\n",
       "      <td>...</td>\n",
       "      <td>...</td>\n",
       "      <td>...</td>\n",
       "      <td>...</td>\n",
       "      <td>...</td>\n",
       "      <td>...</td>\n",
       "      <td>...</td>\n",
       "      <td>...</td>\n",
       "      <td>...</td>\n",
       "      <td>...</td>\n",
       "    </tr>\n",
       "    <tr>\n",
       "      <th>72213</th>\n",
       "      <td>https://www.crunchbase.com/person/stephen-curry</td>\n",
       "      <td>580.0</td>\n",
       "      <td>3963.5</td>\n",
       "      <td>590.610</td>\n",
       "      <td>1921.0</td>\n",
       "      <td>2567.223</td>\n",
       "      <td>1612.0</td>\n",
       "      <td>1637.243066</td>\n",
       "      <td>973.5</td>\n",
       "      <td>85.0</td>\n",
       "      <td>1832888.0</td>\n",
       "      <td>stephen curry</td>\n",
       "      <td>33</td>\n",
       "    </tr>\n",
       "    <tr>\n",
       "      <th>72214</th>\n",
       "      <td>https://www.sfchronicle.com/warriors/article/S...</td>\n",
       "      <td>1219.0</td>\n",
       "      <td>10640.0</td>\n",
       "      <td>238.884</td>\n",
       "      <td>1184.0</td>\n",
       "      <td>3168.110</td>\n",
       "      <td>1219.0</td>\n",
       "      <td>4341.616309</td>\n",
       "      <td>208.0</td>\n",
       "      <td>575.0</td>\n",
       "      <td>5890014.0</td>\n",
       "      <td>stephen curry</td>\n",
       "      <td>27</td>\n",
       "    </tr>\n",
       "    <tr>\n",
       "      <th>72215</th>\n",
       "      <td>https://www.cbssports.com/nba/players/playerpa...</td>\n",
       "      <td>953.0</td>\n",
       "      <td>9365.5</td>\n",
       "      <td>1590.511</td>\n",
       "      <td>2298.0</td>\n",
       "      <td>4762.252</td>\n",
       "      <td>953.0</td>\n",
       "      <td>4540.687065</td>\n",
       "      <td>625.5</td>\n",
       "      <td>457.0</td>\n",
       "      <td>6759435.0</td>\n",
       "      <td>stephen curry</td>\n",
       "      <td>15</td>\n",
       "    </tr>\n",
       "    <tr>\n",
       "      <th>72216</th>\n",
       "      <td>https://www.khou.com/article/news/health/coron...</td>\n",
       "      <td>712.0</td>\n",
       "      <td>15833.5</td>\n",
       "      <td>402.752</td>\n",
       "      <td>1077.0</td>\n",
       "      <td>9590.345</td>\n",
       "      <td>1077.0</td>\n",
       "      <td>6676.864039</td>\n",
       "      <td>667.5</td>\n",
       "      <td>1093.0</td>\n",
       "      <td>7843296.0</td>\n",
       "      <td>casto</td>\n",
       "      <td>59</td>\n",
       "    </tr>\n",
       "    <tr>\n",
       "      <th>72217</th>\n",
       "      <td>https://www.youtube.com/user/rottentomatoes</td>\n",
       "      <td>854.0</td>\n",
       "      <td>4756.0</td>\n",
       "      <td>1905.459</td>\n",
       "      <td>5817.0</td>\n",
       "      <td>3503.440</td>\n",
       "      <td>2775.5</td>\n",
       "      <td>4414.815834</td>\n",
       "      <td>748.5</td>\n",
       "      <td>89.0</td>\n",
       "      <td>3513270.0</td>\n",
       "      <td>rotten tomatoes</td>\n",
       "      <td>3</td>\n",
       "    </tr>\n",
       "  </tbody>\n",
       "</table>\n",
       "<p>72218 rows × 13 columns</p>\n",
       "</div>"
      ],
      "text/plain": [
       "                                                 address  \\\n",
       "0                        https://www.asdafoundation.org/   \n",
       "1                   https://www.americanstampdealer.com/   \n",
       "2                      https://www.asdagoodliving.co.uk/   \n",
       "3                              http://www.asdatoday.com/   \n",
       "4                https://downdetector.co.uk/status/asda/   \n",
       "...                                                  ...   \n",
       "72213    https://www.crunchbase.com/person/stephen-curry   \n",
       "72214  https://www.sfchronicle.com/warriors/article/S...   \n",
       "72215  https://www.cbssports.com/nba/players/playerpa...   \n",
       "72216  https://www.khou.com/article/news/health/coron...   \n",
       "72217        https://www.youtube.com/user/rottentomatoes   \n",
       "\n",
       "       first_contentful_paint  time_to_interactive  time_to_first_byte  \\\n",
       "0                      1275.0               1410.0             609.853   \n",
       "1                       908.0                908.0             883.182   \n",
       "2                      1035.0               1193.5             768.089   \n",
       "3                       590.0               2785.0             358.059   \n",
       "4                       708.0               4630.0             385.969   \n",
       "...                       ...                  ...                 ...   \n",
       "72213                   580.0               3963.5             590.610   \n",
       "72214                  1219.0              10640.0             238.884   \n",
       "72215                   953.0               9365.5            1590.511   \n",
       "72216                   712.0              15833.5             402.752   \n",
       "72217                   854.0               4756.0            1905.459   \n",
       "\n",
       "       dom_size  boot_up_time  first_meaningful_paint  speed_index  \\\n",
       "0         137.0         8.471                  1410.0  2129.675696   \n",
       "1         676.0        36.641                   908.0  1870.638039   \n",
       "2        1339.0       436.294                  1165.0  2184.859293   \n",
       "3         326.0       282.680                   656.0  1180.783589   \n",
       "4        2195.0      1796.401                   748.0  1771.028798   \n",
       "...         ...           ...                     ...          ...   \n",
       "72213    1921.0      2567.223                  1612.0  1637.243066   \n",
       "72214    1184.0      3168.110                  1219.0  4341.616309   \n",
       "72215    2298.0      4762.252                   953.0  4540.687065   \n",
       "72216    1077.0      9590.345                  1077.0  6676.864039   \n",
       "72217    5817.0      3503.440                  2775.5  4414.815834   \n",
       "\n",
       "       total_blocking_time  network_requests  total_byte_weight  \\\n",
       "0                      0.0              43.0           309579.0   \n",
       "1                      0.0              29.0           608118.0   \n",
       "2                     18.5              54.0          1248103.0   \n",
       "3                     25.5              45.0          5422097.0   \n",
       "4                     60.0             326.0          2833017.0   \n",
       "...                    ...               ...                ...   \n",
       "72213                973.5              85.0          1832888.0   \n",
       "72214                208.0             575.0          5890014.0   \n",
       "72215                625.5             457.0          6759435.0   \n",
       "72216                667.5            1093.0          7843296.0   \n",
       "72217                748.5              89.0          3513270.0   \n",
       "\n",
       "               keyword  position  \n",
       "0                 asda        26  \n",
       "1                 asda        31  \n",
       "2                 asda        29  \n",
       "3                 asda        36  \n",
       "4                 asda        34  \n",
       "...                ...       ...  \n",
       "72213    stephen curry        33  \n",
       "72214    stephen curry        27  \n",
       "72215    stephen curry        15  \n",
       "72216            casto        59  \n",
       "72217  rotten tomatoes         3  \n",
       "\n",
       "[72218 rows x 13 columns]"
      ]
     },
     "execution_count": 178,
     "metadata": {},
     "output_type": "execute_result"
    }
   ],
   "source": [
    "final_df"
   ]
  },
  {
   "cell_type": "markdown",
   "metadata": {},
   "source": [
    "## Summary"
   ]
  },
  {
   "cell_type": "markdown",
   "metadata": {},
   "source": [
    "Things to watch:\n",
    "\n",
    "* Potentially a high degree of multi colinearity between pagespeed metrics which will be challening for training a regressor\n",
    "* There are duplicate pages in this dataset as it is possible for the same page to rank for different keywords, so will need to dedupe before training \n",
    "* A lot of the data is on different scales so will need to be transformed"
   ]
  },
  {
   "cell_type": "markdown",
   "metadata": {},
   "source": [
    "# EDA"
   ]
  },
  {
   "cell_type": "markdown",
   "metadata": {},
   "source": [
    "## Dedupe final_df for regressor training"
   ]
  },
  {
   "cell_type": "code",
   "execution_count": 179,
   "metadata": {},
   "outputs": [],
   "source": [
    "final_df_regressor = final_df.drop_duplicates(subset = 'address',keep='first')"
   ]
  },
  {
   "cell_type": "markdown",
   "metadata": {},
   "source": [
    "## Drop columns from final_df not needed for regressor training"
   ]
  },
  {
   "cell_type": "code",
   "execution_count": 180,
   "metadata": {},
   "outputs": [],
   "source": [
    "final_df_regressor.drop(columns = [\"address\", \"keyword\", \"position\"], inplace=True)"
   ]
  },
  {
   "cell_type": "markdown",
   "metadata": {},
   "source": [
    "## Scale dataset"
   ]
  },
  {
   "cell_type": "code",
   "execution_count": 181,
   "metadata": {},
   "outputs": [],
   "source": [
    "final_df_regressor_normal = nt.norm_feat(final_df_regressor);"
   ]
  },
  {
   "cell_type": "markdown",
   "metadata": {},
   "source": [
    "## Plot a corellation matrix"
   ]
  },
  {
   "cell_type": "code",
   "execution_count": 182,
   "metadata": {},
   "outputs": [
    {
     "data": {
      "image/png": "[encoded data removed]",
      "text/plain": [
       "<Figure size 792x648 with 2 Axes>"
      ]
     },
     "metadata": {},
     "output_type": "display_data"
    }
   ],
   "source": [
    "nt.correlation_matrix(final_df_regressor_normal); #Pearson Correlation"
   ]
  },
  {
   "cell_type": "markdown",
   "metadata": {},
   "source": [
    "## Run pair plots"
   ]
  },
  {
   "cell_type": "code",
   "execution_count": 183,
   "metadata": {},
   "outputs": [
    {
     "data": {
      "image/png": "[encoded data removed]",
      "text/plain": [
       "<Figure size 1620x180 with 9 Axes>"
      ]
     },
     "metadata": {},
     "output_type": "display_data"
    }
   ],
   "source": [
    "sns.pairplot(data = final_df_regressor_normal, \n",
    "             y_vars = \"speed_index\", \n",
    "             x_vars = ['first_contentful_paint',\n",
    "             'time_to_interactive',\n",
    "             'time_to_first_byte',\n",
    "             'dom_size',\n",
    "             'boot_up_time',\n",
    "             'first_meaningful_paint',\n",
    "             'total_blocking_time',\n",
    "             'network_requests',\n",
    "             'total_byte_weight'], \n",
    "             kind = 'reg');"
   ]
  },
  {
   "cell_type": "code",
   "execution_count": 184,
   "metadata": {},
   "outputs": [],
   "source": [
    "position_count = final_df.groupby('position')['address'].count()"
   ]
  },
  {
   "cell_type": "markdown",
   "metadata": {},
   "source": [
    "## Number of positions vs number of websites"
   ]
  },
  {
   "cell_type": "code",
   "execution_count": 185,
   "metadata": {},
   "outputs": [
    {
     "data": {
      "image/png": "[encoded data removed]",
      "text/plain": [
       "<Figure size 432x288 with 1 Axes>"
      ]
     },
     "metadata": {},
     "output_type": "display_data"
    }
   ],
   "source": [
    "ax = sns.lineplot(data=position_count)\n",
    "ax.set(xlabel='Position', ylabel='Website Count');"
   ]
  },
  {
   "cell_type": "markdown",
   "metadata": {},
   "source": [
    "Things to think about:\n",
    "\n",
    "* **Feature engineering** - e.g. make a new feature by combining existing features in addition to polynomials/interactions\n",
    "* **Clustering** -  interesting here for segmentation of data\n"
   ]
  },
  {
   "cell_type": "code",
   "execution_count": null,
   "metadata": {},
   "outputs": [],
   "source": []
  }
 ],
 "metadata": {
  "kernelspec": {
   "display_name": "Python [conda env:learn-env] *",
   "language": "python",
   "name": "conda-env-learn-env-py"
  },
  "language_info": {
   "codemirror_mode": {
    "name": "ipython",
    "version": 3
   },
   "file_extension": ".py",
   "mimetype": "text/x-python",
   "name": "python",
   "nbconvert_exporter": "python",
   "pygments_lexer": "ipython3",
   "version": "3.6.6"
  }
 },
 "nbformat": 4,
 "nbformat_minor": 4
}
