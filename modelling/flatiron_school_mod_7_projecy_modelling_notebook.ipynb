{
 "cells": [
  {
   "cell_type": "markdown",
   "metadata": {},
   "source": [
    "# Flatiron School Mod_7 project - Modelling Notebook"
   ]
  },
  {
   "cell_type": "code",
   "execution_count": 9,
   "metadata": {},
   "outputs": [],
   "source": [
    "import pandas as pd\n",
    "import numpy as np\n",
    "import seaborn as sns\n",
    "import matplotlib.pyplot as plt\n",
    "import warnings\n",
    "from sklearn.preprocessing import StandardScaler\n",
    "from sklearn.model_selection import train_test_split\n",
    "from glob import glob\n",
    "from sklearn.model_selection import KFold, cross_validate\n",
    "from sklearn.linear_model import LinearRegression\n",
    "from sklearn.tree import DecisionTreeRegressor \n",
    "from sklearn.ensemble import RandomForestRegressor\n",
    "from sklearn.metrics import r2_score\n",
    "from sklearn.svm import LinearSVR\n",
    "from sklearn.svm import SVR\n",
    "from sklearn.model_selection import GridSearchCV\n",
    "\n",
    "\n",
    "##initialise random state for reproducibility\n",
    "random_state = np.random.seed (42)\n",
    "\n",
    "#suppress inline warnings\n",
    "warnings.filterwarnings('ignore')"
   ]
  },
  {
   "cell_type": "code",
   "execution_count": 10,
   "metadata": {},
   "outputs": [],
   "source": [
    "#as a phase two it would be good to put these into a Scikit Learn pipelearn\n",
    "\n",
    "filenames = glob('pagespeed_csvs/pagespeed_results_*.csv')\n",
    "dataframes = [pd.read_csv(f) for f in filenames]\n",
    "pagespeed_df = pd.concat(dataframes)\n",
    "pagespeed_df.columns = (['address',\n",
    "                         'first_contentful_paint',\n",
    "                         'time_to_interactive',\n",
    "                         'time_to_first_byte',\n",
    "                         'dom_size',\n",
    "                         'boot_up_time',\n",
    "                         'first_meaningful_paint',\n",
    "                         'speed_index',\n",
    "                         'total_blocking_time',\n",
    "                         'network_requests',\n",
    "                         'total_byte_weight'])\n",
    "pagespeed_df.drop_duplicates(subset = 'address',keep='first', inplace = True)\n",
    "pagespeed_df.dropna(inplace = True)\n",
    "for index in range(1,10):\n",
    "    pagespeed_df.iloc[:,index] = pagespeed_df.iloc[:,index].astype(np.float64)\n",
    "pagespeed_df.drop(labels = ['address'], axis = 1, inplace = True)\n",
    "pagespeed_df.reset_index(inplace=True)\n",
    "pagespeed_df.drop(labels = ['index'], axis = 1, inplace = True)"
   ]
  },
  {
   "cell_type": "code",
   "execution_count": 11,
   "metadata": {},
   "outputs": [
    {
     "data": {
      "text/html": [
       "<div>\n",
       "<style scoped>\n",
       "    .dataframe tbody tr th:only-of-type {\n",
       "        vertical-align: middle;\n",
       "    }\n",
       "\n",
       "    .dataframe tbody tr th {\n",
       "        vertical-align: top;\n",
       "    }\n",
       "\n",
       "    .dataframe thead th {\n",
       "        text-align: right;\n",
       "    }\n",
       "</style>\n",
       "<table border=\"1\" class=\"dataframe\">\n",
       "  <thead>\n",
       "    <tr style=\"text-align: right;\">\n",
       "      <th></th>\n",
       "      <th>first_contentful_paint</th>\n",
       "      <th>time_to_interactive</th>\n",
       "      <th>time_to_first_byte</th>\n",
       "      <th>dom_size</th>\n",
       "      <th>boot_up_time</th>\n",
       "      <th>first_meaningful_paint</th>\n",
       "      <th>speed_index</th>\n",
       "      <th>total_blocking_time</th>\n",
       "      <th>network_requests</th>\n",
       "      <th>total_byte_weight</th>\n",
       "    </tr>\n",
       "  </thead>\n",
       "  <tbody>\n",
       "    <tr>\n",
       "      <th>0</th>\n",
       "      <td>1275.0</td>\n",
       "      <td>1410.0</td>\n",
       "      <td>609.853</td>\n",
       "      <td>137.0</td>\n",
       "      <td>8.471</td>\n",
       "      <td>1410.0</td>\n",
       "      <td>2129.675696</td>\n",
       "      <td>0.0</td>\n",
       "      <td>43.0</td>\n",
       "      <td>309579.0</td>\n",
       "    </tr>\n",
       "    <tr>\n",
       "      <th>1</th>\n",
       "      <td>908.0</td>\n",
       "      <td>908.0</td>\n",
       "      <td>883.182</td>\n",
       "      <td>676.0</td>\n",
       "      <td>36.641</td>\n",
       "      <td>908.0</td>\n",
       "      <td>1870.638039</td>\n",
       "      <td>0.0</td>\n",
       "      <td>29.0</td>\n",
       "      <td>608118.0</td>\n",
       "    </tr>\n",
       "    <tr>\n",
       "      <th>2</th>\n",
       "      <td>1035.0</td>\n",
       "      <td>1193.5</td>\n",
       "      <td>768.089</td>\n",
       "      <td>1339.0</td>\n",
       "      <td>436.294</td>\n",
       "      <td>1165.0</td>\n",
       "      <td>2184.859293</td>\n",
       "      <td>18.5</td>\n",
       "      <td>54.0</td>\n",
       "      <td>1248103.0</td>\n",
       "    </tr>\n",
       "    <tr>\n",
       "      <th>3</th>\n",
       "      <td>590.0</td>\n",
       "      <td>2785.0</td>\n",
       "      <td>358.059</td>\n",
       "      <td>326.0</td>\n",
       "      <td>282.680</td>\n",
       "      <td>656.0</td>\n",
       "      <td>1180.783589</td>\n",
       "      <td>25.5</td>\n",
       "      <td>45.0</td>\n",
       "      <td>5422097.0</td>\n",
       "    </tr>\n",
       "    <tr>\n",
       "      <th>4</th>\n",
       "      <td>708.0</td>\n",
       "      <td>4630.0</td>\n",
       "      <td>385.969</td>\n",
       "      <td>2195.0</td>\n",
       "      <td>1796.401</td>\n",
       "      <td>748.0</td>\n",
       "      <td>1771.028798</td>\n",
       "      <td>60.0</td>\n",
       "      <td>326.0</td>\n",
       "      <td>2833017.0</td>\n",
       "    </tr>\n",
       "    <tr>\n",
       "      <th>...</th>\n",
       "      <td>...</td>\n",
       "      <td>...</td>\n",
       "      <td>...</td>\n",
       "      <td>...</td>\n",
       "      <td>...</td>\n",
       "      <td>...</td>\n",
       "      <td>...</td>\n",
       "      <td>...</td>\n",
       "      <td>...</td>\n",
       "      <td>...</td>\n",
       "    </tr>\n",
       "    <tr>\n",
       "      <th>70130</th>\n",
       "      <td>580.0</td>\n",
       "      <td>3963.5</td>\n",
       "      <td>590.610</td>\n",
       "      <td>1921.0</td>\n",
       "      <td>2567.223</td>\n",
       "      <td>1612.0</td>\n",
       "      <td>1637.243066</td>\n",
       "      <td>973.5</td>\n",
       "      <td>85.0</td>\n",
       "      <td>1832888.0</td>\n",
       "    </tr>\n",
       "    <tr>\n",
       "      <th>70131</th>\n",
       "      <td>1219.0</td>\n",
       "      <td>10640.0</td>\n",
       "      <td>238.884</td>\n",
       "      <td>1184.0</td>\n",
       "      <td>3168.110</td>\n",
       "      <td>1219.0</td>\n",
       "      <td>4341.616309</td>\n",
       "      <td>208.0</td>\n",
       "      <td>575.0</td>\n",
       "      <td>5890014.0</td>\n",
       "    </tr>\n",
       "    <tr>\n",
       "      <th>70132</th>\n",
       "      <td>953.0</td>\n",
       "      <td>9365.5</td>\n",
       "      <td>1590.511</td>\n",
       "      <td>2298.0</td>\n",
       "      <td>4762.252</td>\n",
       "      <td>953.0</td>\n",
       "      <td>4540.687065</td>\n",
       "      <td>625.5</td>\n",
       "      <td>457.0</td>\n",
       "      <td>6759435.0</td>\n",
       "    </tr>\n",
       "    <tr>\n",
       "      <th>70133</th>\n",
       "      <td>712.0</td>\n",
       "      <td>15833.5</td>\n",
       "      <td>402.752</td>\n",
       "      <td>1077.0</td>\n",
       "      <td>9590.345</td>\n",
       "      <td>1077.0</td>\n",
       "      <td>6676.864039</td>\n",
       "      <td>667.5</td>\n",
       "      <td>1093.0</td>\n",
       "      <td>7843296.0</td>\n",
       "    </tr>\n",
       "    <tr>\n",
       "      <th>70134</th>\n",
       "      <td>854.0</td>\n",
       "      <td>4756.0</td>\n",
       "      <td>1905.459</td>\n",
       "      <td>5817.0</td>\n",
       "      <td>3503.440</td>\n",
       "      <td>2775.5</td>\n",
       "      <td>4414.815834</td>\n",
       "      <td>748.5</td>\n",
       "      <td>89.0</td>\n",
       "      <td>3513270.0</td>\n",
       "    </tr>\n",
       "  </tbody>\n",
       "</table>\n",
       "<p>70135 rows × 10 columns</p>\n",
       "</div>"
      ],
      "text/plain": [
       "       first_contentful_paint  time_to_interactive  time_to_first_byte  \\\n",
       "0                      1275.0               1410.0             609.853   \n",
       "1                       908.0                908.0             883.182   \n",
       "2                      1035.0               1193.5             768.089   \n",
       "3                       590.0               2785.0             358.059   \n",
       "4                       708.0               4630.0             385.969   \n",
       "...                       ...                  ...                 ...   \n",
       "70130                   580.0               3963.5             590.610   \n",
       "70131                  1219.0              10640.0             238.884   \n",
       "70132                   953.0               9365.5            1590.511   \n",
       "70133                   712.0              15833.5             402.752   \n",
       "70134                   854.0               4756.0            1905.459   \n",
       "\n",
       "       dom_size  boot_up_time  first_meaningful_paint  speed_index  \\\n",
       "0         137.0         8.471                  1410.0  2129.675696   \n",
       "1         676.0        36.641                   908.0  1870.638039   \n",
       "2        1339.0       436.294                  1165.0  2184.859293   \n",
       "3         326.0       282.680                   656.0  1180.783589   \n",
       "4        2195.0      1796.401                   748.0  1771.028798   \n",
       "...         ...           ...                     ...          ...   \n",
       "70130    1921.0      2567.223                  1612.0  1637.243066   \n",
       "70131    1184.0      3168.110                  1219.0  4341.616309   \n",
       "70132    2298.0      4762.252                   953.0  4540.687065   \n",
       "70133    1077.0      9590.345                  1077.0  6676.864039   \n",
       "70134    5817.0      3503.440                  2775.5  4414.815834   \n",
       "\n",
       "       total_blocking_time  network_requests  total_byte_weight  \n",
       "0                      0.0              43.0           309579.0  \n",
       "1                      0.0              29.0           608118.0  \n",
       "2                     18.5              54.0          1248103.0  \n",
       "3                     25.5              45.0          5422097.0  \n",
       "4                     60.0             326.0          2833017.0  \n",
       "...                    ...               ...                ...  \n",
       "70130                973.5              85.0          1832888.0  \n",
       "70131                208.0             575.0          5890014.0  \n",
       "70132                625.5             457.0          6759435.0  \n",
       "70133                667.5            1093.0          7843296.0  \n",
       "70134                748.5              89.0          3513270.0  \n",
       "\n",
       "[70135 rows x 10 columns]"
      ]
     },
     "execution_count": 11,
     "metadata": {},
     "output_type": "execute_result"
    }
   ],
   "source": [
    "pagespeed_df"
   ]
  },
  {
   "cell_type": "code",
   "execution_count": 12,
   "metadata": {},
   "outputs": [],
   "source": [
    "#create a pure final validation dataset to test the model at the end of training\n",
    "\n",
    "final_validation_dataset = pagespeed_df.iloc[50001:,:]\n",
    "final_validation_dataset.reset_index(inplace=True)"
   ]
  },
  {
   "cell_type": "code",
   "execution_count": 13,
   "metadata": {},
   "outputs": [],
   "source": [
    "#create a dataset to use for modelling\n",
    "\n",
    "training_dataset = pagespeed_df.iloc[:50000,:]\n",
    "training_dataset.reset_index(inplace=True)\n",
    "training_dataset.drop(columns = \"index\", inplace=True)"
   ]
  },
  {
   "cell_type": "code",
   "execution_count": 14,
   "metadata": {},
   "outputs": [],
   "source": [
    "#create X and y for training\n",
    "\n",
    "X = training_dataset.drop(columns = \"speed_index\")\n",
    "y = training_dataset.speed_index"
   ]
  },
  {
   "cell_type": "code",
   "execution_count": 15,
   "metadata": {},
   "outputs": [],
   "source": [
    "#train, test split\n",
    "\n",
    "X_train, X_test, y_train, y_test = train_test_split(X, y, test_size=.2, random_state = random_state)"
   ]
  },
  {
   "cell_type": "code",
   "execution_count": 16,
   "metadata": {},
   "outputs": [],
   "source": [
    "#scale data\n",
    "\n",
    "ss = StandardScaler()\n",
    "X_train_scaled = ss.fit_transform(X_train)\n",
    "X_test_scaled = ss.transform(X_test)"
   ]
  },
  {
   "cell_type": "markdown",
   "metadata": {},
   "source": [
    "# Linear Regression - Baseline Model"
   ]
  },
  {
   "cell_type": "code",
   "execution_count": 2,
   "metadata": {},
   "outputs": [],
   "source": [
    "crossvalidation = KFold(n_splits=3, shuffle=True, random_state = random_state)"
   ]
  },
  {
   "cell_type": "code",
   "execution_count": 9,
   "metadata": {},
   "outputs": [],
   "source": [
    "lin_reg_obj  = LinearRegression()"
   ]
  },
  {
   "cell_type": "code",
   "execution_count": 10,
   "metadata": {},
   "outputs": [],
   "source": [
    "lin_reg_kfold = cross_validate(lin_reg_obj, \n",
    "                               X_train_scaled, \n",
    "                               y_train, scoring='r2', \n",
    "                               cv=crossvalidation, \n",
    "                               return_train_score = True, \n",
    "                               n_jobs=-1)"
   ]
  },
  {
   "cell_type": "code",
   "execution_count": 11,
   "metadata": {},
   "outputs": [
    {
     "name": "stdout",
     "output_type": "stream",
     "text": [
      "K-fold test score mean r^2 = 0.76\n",
      "K-fold train score mean r^2 = 0.76\n"
     ]
    }
   ],
   "source": [
    "print(f'K-fold test score mean r^2 = {round(np.mean(lin_reg_kfold[\"test_score\"]), 2)}')\n",
    "print(f'K-fold train score mean r^2 = {round(np.mean(lin_reg_kfold[\"train_score\"]), 2)}')"
   ]
  },
  {
   "cell_type": "code",
   "execution_count": 12,
   "metadata": {},
   "outputs": [],
   "source": [
    "lin_reg_model = lin_reg_obj.fit(X_train_scaled, y_train)"
   ]
  },
  {
   "cell_type": "code",
   "execution_count": 13,
   "metadata": {},
   "outputs": [
    {
     "name": "stdout",
     "output_type": "stream",
     "text": [
      "R^2 error from fitting a simple linear regression to this data is 0.77 test data set\n"
     ]
    }
   ],
   "source": [
    "print(f'R^2 error from fitting a simple linear regression to this data is {round(r2_score(y_test,lin_reg_obj.predict(X_test_scaled)),2)} test data set')\n"
   ]
  },
  {
   "cell_type": "markdown",
   "metadata": {},
   "source": [
    "# Decision Tree Regressor"
   ]
  },
  {
   "cell_type": "code",
   "execution_count": 4,
   "metadata": {},
   "outputs": [],
   "source": [
    "dec_tree_obj  = DecisionTreeRegressor()"
   ]
  },
  {
   "cell_type": "code",
   "execution_count": 105,
   "metadata": {},
   "outputs": [],
   "source": [
    "dec_tree_kfold = cross_validate(dec_tree_obj, \n",
    "                               X_train, \n",
    "                               y_train, scoring='r2', \n",
    "                               cv=crossvalidation, \n",
    "                               return_train_score = True, \n",
    "                               n_jobs=-1)"
   ]
  },
  {
   "cell_type": "code",
   "execution_count": 106,
   "metadata": {},
   "outputs": [
    {
     "data": {
      "text/plain": [
       "{'fit_time': array([1.35188198, 1.30553699, 1.32193589, 1.28630829, 1.19623613,\n",
       "        1.21320176, 1.19324994, 1.18138909, 0.76027608, 0.82431078]),\n",
       " 'score_time': array([0.00837183, 0.00532317, 0.00939631, 0.00967503, 0.0179069 ,\n",
       "        0.00525212, 0.00533795, 0.00813079, 0.00365305, 0.00368619]),\n",
       " 'test_score': array([0.5793715 , 0.58078923, 0.56964407, 0.53427206, 0.56508903,\n",
       "        0.60321148, 0.54479158, 0.59471616, 0.5647435 , 0.58232594]),\n",
       " 'train_score': array([1., 1., 1., 1., 1., 1., 1., 1., 1., 1.])}"
      ]
     },
     "execution_count": 106,
     "metadata": {},
     "output_type": "execute_result"
    }
   ],
   "source": [
    "dec_tree_kfold"
   ]
  },
  {
   "cell_type": "markdown",
   "metadata": {},
   "source": [
    "This is model is really badly overfitting on the training data; needs regualarisation"
   ]
  },
  {
   "cell_type": "markdown",
   "metadata": {},
   "source": [
    "# Decision Tree Regressor Regularised"
   ]
  },
  {
   "cell_type": "code",
   "execution_count": 5,
   "metadata": {},
   "outputs": [],
   "source": [
    "dec_tree_obj_reg  = DecisionTreeRegressor(min_samples_leaf=10)\n",
    "\n",
    "#basic regularisation by setting min_samples_leaf at 10 to see if this improves performance better than the baseline model"
   ]
  },
  {
   "cell_type": "code",
   "execution_count": 91,
   "metadata": {},
   "outputs": [],
   "source": [
    "dec_tree_reg_kfold = cross_validate(dec_tree_obj_reg, \n",
    "                               X_train, \n",
    "                               y_train, scoring='r2', \n",
    "                               cv=crossvalidation, \n",
    "                               return_train_score = True, \n",
    "                               n_jobs=-1)"
   ]
  },
  {
   "cell_type": "code",
   "execution_count": 92,
   "metadata": {},
   "outputs": [
    {
     "data": {
      "text/plain": [
       "{'fit_time': array([0.62637115, 0.64698982, 0.62787294, 0.63129497, 0.63250613,\n",
       "        0.62551594, 0.62980294, 0.60125089, 0.42277312, 0.41977692]),\n",
       " 'score_time': array([0.00326467, 0.00721812, 0.00353909, 0.00440621, 0.00336385,\n",
       "        0.00375104, 0.00369716, 0.00441003, 0.00233698, 0.00395799]),\n",
       " 'test_score': array([0.70840992, 0.72062986, 0.71909391, 0.74793525, 0.70336935,\n",
       "        0.71481289, 0.7158099 , 0.73908255, 0.72547688, 0.72748958]),\n",
       " 'train_score': array([0.85953352, 0.8561403 , 0.85811034, 0.85436623, 0.85910552,\n",
       "        0.85915717, 0.85619071, 0.85316943, 0.85605757, 0.85571813])}"
      ]
     },
     "execution_count": 92,
     "metadata": {},
     "output_type": "execute_result"
    }
   ],
   "source": [
    "dec_tree_reg_kfold"
   ]
  },
  {
   "cell_type": "markdown",
   "metadata": {},
   "source": [
    "Over fitting is reduced and the model generalises better, however it still isn't close to the baseline model."
   ]
  },
  {
   "cell_type": "markdown",
   "metadata": {},
   "source": [
    "# Random Forest Regressor"
   ]
  },
  {
   "cell_type": "code",
   "execution_count": 17,
   "metadata": {},
   "outputs": [],
   "source": [
    "rand_forest_obj  = RandomForestRegressor()"
   ]
  },
  {
   "cell_type": "code",
   "execution_count": 109,
   "metadata": {},
   "outputs": [],
   "source": [
    "rand_forest_kfold = cross_validate(rand_forest_obj, \n",
    "                               X_train, \n",
    "                               y_train, scoring='r2', \n",
    "                               cv=crossvalidation, \n",
    "                               return_train_score = True, \n",
    "                               n_jobs=-1)"
   ]
  },
  {
   "cell_type": "code",
   "execution_count": 110,
   "metadata": {},
   "outputs": [
    {
     "data": {
      "text/plain": [
       "{'fit_time': array([79.99479294, 79.76776814, 79.45951796, 79.57554507, 74.50635791,\n",
       "        74.60597897, 74.730757  , 74.70257092, 51.01027393, 51.02853012]),\n",
       " 'score_time': array([1.99373507, 2.01834297, 1.93409324, 2.08645511, 0.3737061 ,\n",
       "        0.40085196, 0.40327883, 0.3944602 , 0.21986794, 0.23955178]),\n",
       " 'test_score': array([0.78924023, 0.79685966, 0.79219834, 0.76422986, 0.7887524 ,\n",
       "        0.79706424, 0.78400678, 0.81045417, 0.80217278, 0.78176446]),\n",
       " 'train_score': array([0.9706269 , 0.97040972, 0.97002489, 0.97087586, 0.97034983,\n",
       "        0.97023976, 0.97065244, 0.97009259, 0.97032145, 0.97054049])}"
      ]
     },
     "execution_count": 110,
     "metadata": {},
     "output_type": "execute_result"
    }
   ],
   "source": [
    "rand_forest_kfold"
   ]
  },
  {
   "cell_type": "markdown",
   "metadata": {},
   "source": [
    "This model is working very well being better than the baseline and is generalising very well."
   ]
  },
  {
   "cell_type": "markdown",
   "metadata": {},
   "source": [
    "# SVM Linear Regressor"
   ]
  },
  {
   "cell_type": "code",
   "execution_count": 76,
   "metadata": {},
   "outputs": [],
   "source": [
    "svm_reg_lin_obj = LinearSVR(epsilon = 1.5)"
   ]
  },
  {
   "cell_type": "code",
   "execution_count": 77,
   "metadata": {},
   "outputs": [],
   "source": [
    "svm_reg_lin_kfold = cross_validate(svm_reg_obj, \n",
    "                               X_train_scaled, \n",
    "                               y_train, scoring='r2', \n",
    "                               cv=crossvalidation, \n",
    "                               return_train_score = True, \n",
    "                               n_jobs=-1)"
   ]
  },
  {
   "cell_type": "code",
   "execution_count": 78,
   "metadata": {},
   "outputs": [
    {
     "data": {
      "text/plain": [
       "{'fit_time': array([0.10670066, 0.12488604, 0.15097427, 0.12762809, 0.14071488,\n",
       "        0.13309598, 0.11013031, 0.10617232, 0.08828712, 0.07710195]),\n",
       " 'score_time': array([0.00205612, 0.00170994, 0.00173187, 0.00135088, 0.00153923,\n",
       "        0.00152898, 0.00127983, 0.00170994, 0.00125694, 0.00119019]),\n",
       " 'test_score': array([0.75036835, 0.75410743, 0.74720392, 0.70443898, 0.75411276,\n",
       "        0.75775789, 0.75489517, 0.76417607, 0.76058463, 0.74661129]),\n",
       " 'train_score': array([0.74987204, 0.74910652, 0.75014454, 0.75424999, 0.74949338,\n",
       "        0.74840074, 0.74923422, 0.74839429, 0.74875119, 0.7500637 ])}"
      ]
     },
     "execution_count": 78,
     "metadata": {},
     "output_type": "execute_result"
    }
   ],
   "source": [
    "svm_reg_lin_kfold"
   ]
  },
  {
   "cell_type": "markdown",
   "metadata": {},
   "source": [
    "This model is slightly better than the baseline and it is interesting to note the test and train scores are very similar. Not really a candidate though."
   ]
  },
  {
   "cell_type": "markdown",
   "metadata": {},
   "source": [
    "# SVM Poly Regressor"
   ]
  },
  {
   "cell_type": "code",
   "execution_count": 7,
   "metadata": {},
   "outputs": [],
   "source": [
    "svm_reg_poly_obj = SVR(kernel='poly', degree = 2, C = 100, epsilon = 0.1)\n",
    "\n",
    "#trying with a high degree of C as a first pass at support vector machine regressors"
   ]
  },
  {
   "cell_type": "code",
   "execution_count": 85,
   "metadata": {},
   "outputs": [],
   "source": [
    "svm_reg_poly_kfold = cross_validate(svm_reg_poly_obj, \n",
    "                               X_train_scaled, \n",
    "                               y_train, scoring='r2', \n",
    "                               cv=crossvalidation, \n",
    "                               return_train_score = True, \n",
    "                               n_jobs=-1)"
   ]
  },
  {
   "cell_type": "code",
   "execution_count": 86,
   "metadata": {},
   "outputs": [
    {
     "data": {
      "text/plain": [
       "{'fit_time': array([110.64160895, 110.22855186, 110.17512083, 107.01757908,\n",
       "        128.27990675, 131.09846282, 131.62319374, 128.9664619 ,\n",
       "         69.16127062,  63.03120804]),\n",
       " 'score_time': array([5.00791407, 4.92623591, 4.93848896, 4.46259284, 5.51044106,\n",
       "        6.40363407, 6.18417788, 6.472821  , 2.42267013, 2.39921689]),\n",
       " 'test_score': array([ 0.0853552 ,  0.01981855, -0.00051021,  0.13588822,  0.2782891 ,\n",
       "         0.13070214,  0.25124755,  0.2408972 ,  0.08673406,  0.18521362]),\n",
       " 'train_score': array([0.18048918, 0.18216414, 0.18228855, 0.17836761, 0.16623988,\n",
       "        0.17175629, 0.17769117, 0.17602947, 0.17714674, 0.17687959])}"
      ]
     },
     "execution_count": 86,
     "metadata": {},
     "output_type": "execute_result"
    }
   ],
   "source": [
    "svm_reg_poly_kfold\n"
   ]
  },
  {
   "cell_type": "markdown",
   "metadata": {},
   "source": [
    "This model performed very badly. Now try a more nuanced version of C to see if this makes a difference."
   ]
  },
  {
   "cell_type": "code",
   "execution_count": 87,
   "metadata": {},
   "outputs": [],
   "source": [
    "svm_reg_poly_obj = SVR(kernel='poly', degree = 2, C = 0.1, epsilon = 0.1)"
   ]
  },
  {
   "cell_type": "code",
   "execution_count": 88,
   "metadata": {},
   "outputs": [],
   "source": [
    "svm_reg_poly_kfold = cross_validate(svm_reg_poly_obj, \n",
    "                               X_train_scaled, \n",
    "                               y_train, scoring='r2', \n",
    "                               cv=crossvalidation, \n",
    "                               return_train_score = True, \n",
    "                               n_jobs=-1)"
   ]
  },
  {
   "cell_type": "code",
   "execution_count": 89,
   "metadata": {},
   "outputs": [
    {
     "data": {
      "text/plain": [
       "{'fit_time': array([149.28588104, 199.33494401, 203.95414019, 148.03211427,\n",
       "        188.75253701, 177.8305788 , 171.58037305, 134.17970777,\n",
       "         92.05614281, 114.12295508]),\n",
       " 'score_time': array([6.17438817, 6.05337024, 5.38090277, 5.56100893, 5.503196  ,\n",
       "        5.21876931, 5.16623902, 5.45430827, 3.02413893, 2.28764725]),\n",
       " 'test_score': array([0.22678448, 0.24981503, 0.22308668, 0.24756743, 0.23564214,\n",
       "        0.23297111, 0.23926996, 0.21411701, 0.21583266, 0.24900738]),\n",
       " 'train_score': array([0.23382904, 0.23186442, 0.23637453, 0.23366469, 0.23518895,\n",
       "        0.23221544, 0.23447401, 0.23846898, 0.23742822, 0.23460491])}"
      ]
     },
     "execution_count": 89,
     "metadata": {},
     "output_type": "execute_result"
    }
   ],
   "source": [
    "svm_reg_poly_kfold"
   ]
  },
  {
   "cell_type": "markdown",
   "metadata": {},
   "source": [
    "Performance here is better, but still not close to the baseline and so I am not choosing this model."
   ]
  },
  {
   "cell_type": "markdown",
   "metadata": {},
   "source": [
    "# Model Optimisation"
   ]
  },
  {
   "cell_type": "markdown",
   "metadata": {},
   "source": [
    "The best candidate model is the RandomForestRegressor. We need to optimise this further to get the best results using GridSearchCV"
   ]
  },
  {
   "cell_type": "code",
   "execution_count": 281,
   "metadata": {},
   "outputs": [
    {
     "name": "stdout",
     "output_type": "stream",
     "text": [
      "Fitting 10 folds for each of 12 candidates, totalling 120 fits\n"
     ]
    },
    {
     "name": "stderr",
     "output_type": "stream",
     "text": [
      "[Parallel(n_jobs=-1)]: Using backend LokyBackend with 4 concurrent workers.\n",
      "[Parallel(n_jobs=-1)]: Done  33 tasks      | elapsed:  6.8min\n",
      "[Parallel(n_jobs=-1)]: Done 120 out of 120 | elapsed: 23.6min finished\n"
     ]
    },
    {
     "data": {
      "text/plain": [
       "GridSearchCV(cv=KFold(n_splits=10, random_state=None, shuffle=True),\n",
       "             error_score=nan,\n",
       "             estimator=RandomForestRegressor(bootstrap=True, ccp_alpha=0.0,\n",
       "                                             criterion='mse', max_depth=None,\n",
       "                                             max_features='auto',\n",
       "                                             max_leaf_nodes=None,\n",
       "                                             max_samples=None,\n",
       "                                             min_impurity_decrease=0.0,\n",
       "                                             min_impurity_split=None,\n",
       "                                             min_samples_leaf=1,\n",
       "                                             min_samples_split=2,\n",
       "                                             min_weight_fraction_leaf=0.0,\n",
       "                                             n_estimators=100, n_jobs=None,\n",
       "                                             oob_score=False, random_state=None,\n",
       "                                             verbose=0, warm_start=False),\n",
       "             iid='deprecated', n_jobs=-1,\n",
       "             param_grid={'max_depth': range(10, 50, 10),\n",
       "                         'min_samples_leaf': [5, 50, 500]},\n",
       "             pre_dispatch='2*n_jobs', refit=True, return_train_score=True,\n",
       "             scoring='r2', verbose=2)"
      ]
     },
     "execution_count": 281,
     "metadata": {},
     "output_type": "execute_result"
    }
   ],
   "source": [
    "param_grid = {'max_depth':range(10,50,10),\n",
    "              'min_samples_leaf':[5,50,500]}\n",
    "opt_model_1 = GridSearchCV(rand_forest_obj,\n",
    "                           param_grid,\n",
    "                           cv=crossvalidation,\n",
    "                           scoring='r2',\n",
    "                           return_train_score=True,\n",
    "                           n_jobs=-1,\n",
    "                           verbose=2)\n",
    "opt_model_1.fit(X_train,y_train)"
   ]
  },
  {
   "cell_type": "code",
   "execution_count": 288,
   "metadata": {},
   "outputs": [
    {
     "name": "stdout",
     "output_type": "stream",
     "text": [
      "Best parameters for this optimisation: {'max_depth': 20, 'min_samples_leaf': 5}\n",
      "Best r^2 for this optimisation: 0.79\n"
     ]
    }
   ],
   "source": [
    "print(f'Best parameters for this optimisation: {opt_model_1.best_params_}')\n",
    "print(f'Best r^2 for this optimisation: {round(opt_model_1.best_score_,2)}')"
   ]
  },
  {
   "cell_type": "code",
   "execution_count": 11,
   "metadata": {},
   "outputs": [
    {
     "name": "stdout",
     "output_type": "stream",
     "text": [
      "Fitting 3 folds for each of 90 candidates, totalling 270 fits\n"
     ]
    },
    {
     "name": "stderr",
     "output_type": "stream",
     "text": [
      "[Parallel(n_jobs=-1)]: Using backend LokyBackend with 4 concurrent workers.\n",
      "[Parallel(n_jobs=-1)]: Done  33 tasks      | elapsed:  6.2min\n",
      "[Parallel(n_jobs=-1)]: Done 154 tasks      | elapsed: 32.9min\n",
      "[Parallel(n_jobs=-1)]: Done 270 out of 270 | elapsed: 57.4min finished\n"
     ]
    },
    {
     "data": {
      "text/plain": [
       "GridSearchCV(cv=KFold(n_splits=3, random_state=None, shuffle=True),\n",
       "             error_score=nan,\n",
       "             estimator=RandomForestRegressor(bootstrap=True, ccp_alpha=0.0,\n",
       "                                             criterion='mse', max_depth=None,\n",
       "                                             max_features='auto',\n",
       "                                             max_leaf_nodes=None,\n",
       "                                             max_samples=None,\n",
       "                                             min_impurity_decrease=0.0,\n",
       "                                             min_impurity_split=None,\n",
       "                                             min_samples_leaf=1,\n",
       "                                             min_samples_split=2,\n",
       "                                             min_weight_fraction_leaf=0.0,\n",
       "                                             n_estimators=100, n_jobs=None,\n",
       "                                             oob_score=False, random_state=None,\n",
       "                                             verbose=0, warm_start=False),\n",
       "             iid='deprecated', n_jobs=-1,\n",
       "             param_grid={'max_depth': range(15, 25),\n",
       "                         'min_samples_leaf': range(1, 10)},\n",
       "             pre_dispatch='2*n_jobs', refit=True, return_train_score=True,\n",
       "             scoring='r2', verbose=2)"
      ]
     },
     "execution_count": 11,
     "metadata": {},
     "output_type": "execute_result"
    }
   ],
   "source": [
    "param_grid = {'max_depth':range(15,25,1),\n",
    "              'min_samples_leaf':range(1,10,1)}\n",
    "opt_model_2 = GridSearchCV(rand_forest_obj,\n",
    "                           param_grid,\n",
    "                           cv=crossvalidation,\n",
    "                           scoring='r2',\n",
    "                           return_train_score=True,\n",
    "                           n_jobs=-1,\n",
    "                           verbose=2)\n",
    "opt_model_2.fit(X_train,y_train)"
   ]
  },
  {
   "cell_type": "code",
   "execution_count": 12,
   "metadata": {},
   "outputs": [
    {
     "name": "stdout",
     "output_type": "stream",
     "text": [
      "Best parameters for this optimisation: {'max_depth': 23, 'min_samples_leaf': 3}\n",
      "Best r^2 for this optimisation: 0.79\n"
     ]
    }
   ],
   "source": [
    "print(f'Best parameters for this optimisation: {opt_model_2.best_params_}')\n",
    "print(f'Best r^2 for this optimisation: {round(opt_model_2.best_score_,2)}')"
   ]
  },
  {
   "cell_type": "markdown",
   "metadata": {},
   "source": [
    "# Fitting Optimisal Model"
   ]
  },
  {
   "cell_type": "code",
   "execution_count": 18,
   "metadata": {},
   "outputs": [],
   "source": [
    "rand_forest_opt  = RandomForestRegressor(max_depth = 23,\n",
    "                                         min_samples_leaf =3)"
   ]
  },
  {
   "cell_type": "code",
   "execution_count": 19,
   "metadata": {},
   "outputs": [
    {
     "data": {
      "text/plain": [
       "RandomForestRegressor(bootstrap=True, ccp_alpha=0.0, criterion='mse',\n",
       "                      max_depth=23, max_features='auto', max_leaf_nodes=None,\n",
       "                      max_samples=None, min_impurity_decrease=0.0,\n",
       "                      min_impurity_split=None, min_samples_leaf=3,\n",
       "                      min_samples_split=2, min_weight_fraction_leaf=0.0,\n",
       "                      n_estimators=100, n_jobs=None, oob_score=False,\n",
       "                      random_state=None, verbose=0, warm_start=False)"
      ]
     },
     "execution_count": 19,
     "metadata": {},
     "output_type": "execute_result"
    }
   ],
   "source": [
    "rand_forest_opt.fit(X_train,y_train)"
   ]
  },
  {
   "cell_type": "code",
   "execution_count": 20,
   "metadata": {},
   "outputs": [
    {
     "name": "stdout",
     "output_type": "stream",
     "text": [
      "R^2 error from fitting a random forest regressor to this data is 0.8\n"
     ]
    }
   ],
   "source": [
    "print(f'R^2 error from fitting a random forest regressor to this data is {round(r2_score(y_test,rand_forest_opt.predict(X_test)),2)}')"
   ]
  },
  {
   "cell_type": "markdown",
   "metadata": {},
   "source": [
    "The final model has achieved 80% accuracy for the test data set, now it needs to be tested against the pure final validation  dataset."
   ]
  },
  {
   "cell_type": "markdown",
   "metadata": {},
   "source": [
    "Looking at feature importance to see which coefficients have the most impact on model performance."
   ]
  },
  {
   "cell_type": "code",
   "execution_count": 19,
   "metadata": {},
   "outputs": [
    {
     "data": {
      "text/plain": [
       "array([0.03937045, 0.56629032, 0.20307186, 0.01986105, 0.02776161,\n",
       "       0.0697025 , 0.01935793, 0.02067694, 0.03390735])"
      ]
     },
     "execution_count": 19,
     "metadata": {},
     "output_type": "execute_result"
    }
   ],
   "source": [
    "rand_forest_opt.feature_importances_"
   ]
  },
  {
   "cell_type": "code",
   "execution_count": 73,
   "metadata": {},
   "outputs": [],
   "source": [
    "importances = pd.DataFrame(list(zip(rand_forest_opt.feature_importances_, X_train.columns)))\n",
    "importances.columns = ['feature_importance', 'feature']\n",
    "importances = importances[['feature','feature_importance']]\n",
    "importances.feature_importance = round(importances.feature_importance * 100,2)\n",
    "\n",
    "importances.sort_values(by = 'feature_importance', ascending = False, inplace = True)"
   ]
  },
  {
   "cell_type": "code",
   "execution_count": 74,
   "metadata": {},
   "outputs": [
    {
     "data": {
      "text/html": [
       "<div>\n",
       "<style scoped>\n",
       "    .dataframe tbody tr th:only-of-type {\n",
       "        vertical-align: middle;\n",
       "    }\n",
       "\n",
       "    .dataframe tbody tr th {\n",
       "        vertical-align: top;\n",
       "    }\n",
       "\n",
       "    .dataframe thead th {\n",
       "        text-align: right;\n",
       "    }\n",
       "</style>\n",
       "<table border=\"1\" class=\"dataframe\">\n",
       "  <thead>\n",
       "    <tr style=\"text-align: right;\">\n",
       "      <th></th>\n",
       "      <th>feature</th>\n",
       "      <th>feature_importance</th>\n",
       "    </tr>\n",
       "  </thead>\n",
       "  <tbody>\n",
       "    <tr>\n",
       "      <th>1</th>\n",
       "      <td>time_to_interactive</td>\n",
       "      <td>56.63</td>\n",
       "    </tr>\n",
       "    <tr>\n",
       "      <th>2</th>\n",
       "      <td>time_to_first_byte</td>\n",
       "      <td>20.31</td>\n",
       "    </tr>\n",
       "    <tr>\n",
       "      <th>5</th>\n",
       "      <td>first_meaningful_paint</td>\n",
       "      <td>6.97</td>\n",
       "    </tr>\n",
       "    <tr>\n",
       "      <th>0</th>\n",
       "      <td>first_contentful_paint</td>\n",
       "      <td>3.94</td>\n",
       "    </tr>\n",
       "    <tr>\n",
       "      <th>8</th>\n",
       "      <td>total_byte_weight</td>\n",
       "      <td>3.39</td>\n",
       "    </tr>\n",
       "    <tr>\n",
       "      <th>4</th>\n",
       "      <td>boot_up_time</td>\n",
       "      <td>2.78</td>\n",
       "    </tr>\n",
       "    <tr>\n",
       "      <th>7</th>\n",
       "      <td>network_requests</td>\n",
       "      <td>2.07</td>\n",
       "    </tr>\n",
       "    <tr>\n",
       "      <th>3</th>\n",
       "      <td>dom_size</td>\n",
       "      <td>1.99</td>\n",
       "    </tr>\n",
       "    <tr>\n",
       "      <th>6</th>\n",
       "      <td>total_blocking_time</td>\n",
       "      <td>1.94</td>\n",
       "    </tr>\n",
       "  </tbody>\n",
       "</table>\n",
       "</div>"
      ],
      "text/plain": [
       "                  feature  feature_importance\n",
       "1     time_to_interactive               56.63\n",
       "2      time_to_first_byte               20.31\n",
       "5  first_meaningful_paint                6.97\n",
       "0  first_contentful_paint                3.94\n",
       "8       total_byte_weight                3.39\n",
       "4            boot_up_time                2.78\n",
       "7        network_requests                2.07\n",
       "3                dom_size                1.99\n",
       "6     total_blocking_time                1.94"
      ]
     },
     "execution_count": 74,
     "metadata": {},
     "output_type": "execute_result"
    }
   ],
   "source": [
    "importances"
   ]
  },
  {
   "cell_type": "code",
   "execution_count": 75,
   "metadata": {},
   "outputs": [
    {
     "data": {
      "text/plain": [
       "Text(0.5, 0, 'Feature Importance')"
      ]
     },
     "execution_count": 75,
     "metadata": {},
     "output_type": "execute_result"
    },
    {
     "data": {
      "image/png": "[encoded data removed]",
      "text/plain": [
       "<Figure size 1728x1152 with 1 Axes>"
      ]
     },
     "metadata": {},
     "output_type": "display_data"
    }
   ],
   "source": [
    "fig_dims = (24, 16)\n",
    "fig, ax = plt.subplots(figsize=fig_dims)\n",
    "ax = sns.barplot(x='feature_importance', y='feature', data=importances)\n",
    "ax.set_xlabel('Feature Importance')"
   ]
  },
  {
   "cell_type": "markdown",
   "metadata": {},
   "source": [
    "We see that final performance is overwhelmingly by ensuring time_to_interactive is as short as possible, closely followed by time_to_first_byte."
   ]
  },
  {
   "cell_type": "markdown",
   "metadata": {},
   "source": [
    "# Validation using the pure validation dataset"
   ]
  },
  {
   "cell_type": "markdown",
   "metadata": {},
   "source": [
    "This data hasn't been used for training and this is the first time it has been seen and will be used to test the efficacy of the model 'in the wild'."
   ]
  },
  {
   "cell_type": "code",
   "execution_count": 22,
   "metadata": {},
   "outputs": [
    {
     "data": {
      "text/html": [
       "<div>\n",
       "<style scoped>\n",
       "    .dataframe tbody tr th:only-of-type {\n",
       "        vertical-align: middle;\n",
       "    }\n",
       "\n",
       "    .dataframe tbody tr th {\n",
       "        vertical-align: top;\n",
       "    }\n",
       "\n",
       "    .dataframe thead th {\n",
       "        text-align: right;\n",
       "    }\n",
       "</style>\n",
       "<table border=\"1\" class=\"dataframe\">\n",
       "  <thead>\n",
       "    <tr style=\"text-align: right;\">\n",
       "      <th></th>\n",
       "      <th>first_contentful_paint</th>\n",
       "      <th>time_to_interactive</th>\n",
       "      <th>time_to_first_byte</th>\n",
       "      <th>dom_size</th>\n",
       "      <th>boot_up_time</th>\n",
       "      <th>first_meaningful_paint</th>\n",
       "      <th>speed_index</th>\n",
       "      <th>total_blocking_time</th>\n",
       "      <th>network_requests</th>\n",
       "      <th>total_byte_weight</th>\n",
       "    </tr>\n",
       "  </thead>\n",
       "  <tbody>\n",
       "    <tr>\n",
       "      <th>0</th>\n",
       "      <td>762.0</td>\n",
       "      <td>6016.0</td>\n",
       "      <td>625.391</td>\n",
       "      <td>866.0</td>\n",
       "      <td>2133.756</td>\n",
       "      <td>782.0</td>\n",
       "      <td>2521.267095</td>\n",
       "      <td>164.5</td>\n",
       "      <td>327.0</td>\n",
       "      <td>2837675.0</td>\n",
       "    </tr>\n",
       "    <tr>\n",
       "      <th>1</th>\n",
       "      <td>1361.0</td>\n",
       "      <td>3018.0</td>\n",
       "      <td>454.884</td>\n",
       "      <td>648.0</td>\n",
       "      <td>1202.386</td>\n",
       "      <td>1444.5</td>\n",
       "      <td>1657.511519</td>\n",
       "      <td>256.5</td>\n",
       "      <td>54.0</td>\n",
       "      <td>1845731.0</td>\n",
       "    </tr>\n",
       "    <tr>\n",
       "      <th>2</th>\n",
       "      <td>1194.0</td>\n",
       "      <td>3792.0</td>\n",
       "      <td>668.092</td>\n",
       "      <td>1000.0</td>\n",
       "      <td>802.110</td>\n",
       "      <td>1194.0</td>\n",
       "      <td>2394.270927</td>\n",
       "      <td>217.0</td>\n",
       "      <td>149.0</td>\n",
       "      <td>2652584.0</td>\n",
       "    </tr>\n",
       "    <tr>\n",
       "      <th>3</th>\n",
       "      <td>660.0</td>\n",
       "      <td>6764.0</td>\n",
       "      <td>705.978</td>\n",
       "      <td>1065.0</td>\n",
       "      <td>2999.316</td>\n",
       "      <td>660.0</td>\n",
       "      <td>3909.520193</td>\n",
       "      <td>179.5</td>\n",
       "      <td>304.0</td>\n",
       "      <td>3643357.0</td>\n",
       "    </tr>\n",
       "    <tr>\n",
       "      <th>4</th>\n",
       "      <td>740.0</td>\n",
       "      <td>9646.0</td>\n",
       "      <td>137.746</td>\n",
       "      <td>1662.0</td>\n",
       "      <td>4866.185</td>\n",
       "      <td>740.0</td>\n",
       "      <td>6013.176555</td>\n",
       "      <td>628.5</td>\n",
       "      <td>633.0</td>\n",
       "      <td>5849438.0</td>\n",
       "    </tr>\n",
       "    <tr>\n",
       "      <th>...</th>\n",
       "      <td>...</td>\n",
       "      <td>...</td>\n",
       "      <td>...</td>\n",
       "      <td>...</td>\n",
       "      <td>...</td>\n",
       "      <td>...</td>\n",
       "      <td>...</td>\n",
       "      <td>...</td>\n",
       "      <td>...</td>\n",
       "      <td>...</td>\n",
       "    </tr>\n",
       "    <tr>\n",
       "      <th>20129</th>\n",
       "      <td>580.0</td>\n",
       "      <td>3963.5</td>\n",
       "      <td>590.610</td>\n",
       "      <td>1921.0</td>\n",
       "      <td>2567.223</td>\n",
       "      <td>1612.0</td>\n",
       "      <td>1637.243066</td>\n",
       "      <td>973.5</td>\n",
       "      <td>85.0</td>\n",
       "      <td>1832888.0</td>\n",
       "    </tr>\n",
       "    <tr>\n",
       "      <th>20130</th>\n",
       "      <td>1219.0</td>\n",
       "      <td>10640.0</td>\n",
       "      <td>238.884</td>\n",
       "      <td>1184.0</td>\n",
       "      <td>3168.110</td>\n",
       "      <td>1219.0</td>\n",
       "      <td>4341.616309</td>\n",
       "      <td>208.0</td>\n",
       "      <td>575.0</td>\n",
       "      <td>5890014.0</td>\n",
       "    </tr>\n",
       "    <tr>\n",
       "      <th>20131</th>\n",
       "      <td>953.0</td>\n",
       "      <td>9365.5</td>\n",
       "      <td>1590.511</td>\n",
       "      <td>2298.0</td>\n",
       "      <td>4762.252</td>\n",
       "      <td>953.0</td>\n",
       "      <td>4540.687065</td>\n",
       "      <td>625.5</td>\n",
       "      <td>457.0</td>\n",
       "      <td>6759435.0</td>\n",
       "    </tr>\n",
       "    <tr>\n",
       "      <th>20132</th>\n",
       "      <td>712.0</td>\n",
       "      <td>15833.5</td>\n",
       "      <td>402.752</td>\n",
       "      <td>1077.0</td>\n",
       "      <td>9590.345</td>\n",
       "      <td>1077.0</td>\n",
       "      <td>6676.864039</td>\n",
       "      <td>667.5</td>\n",
       "      <td>1093.0</td>\n",
       "      <td>7843296.0</td>\n",
       "    </tr>\n",
       "    <tr>\n",
       "      <th>20133</th>\n",
       "      <td>854.0</td>\n",
       "      <td>4756.0</td>\n",
       "      <td>1905.459</td>\n",
       "      <td>5817.0</td>\n",
       "      <td>3503.440</td>\n",
       "      <td>2775.5</td>\n",
       "      <td>4414.815834</td>\n",
       "      <td>748.5</td>\n",
       "      <td>89.0</td>\n",
       "      <td>3513270.0</td>\n",
       "    </tr>\n",
       "  </tbody>\n",
       "</table>\n",
       "<p>20134 rows × 10 columns</p>\n",
       "</div>"
      ],
      "text/plain": [
       "       first_contentful_paint  time_to_interactive  time_to_first_byte  \\\n",
       "0                       762.0               6016.0             625.391   \n",
       "1                      1361.0               3018.0             454.884   \n",
       "2                      1194.0               3792.0             668.092   \n",
       "3                       660.0               6764.0             705.978   \n",
       "4                       740.0               9646.0             137.746   \n",
       "...                       ...                  ...                 ...   \n",
       "20129                   580.0               3963.5             590.610   \n",
       "20130                  1219.0              10640.0             238.884   \n",
       "20131                   953.0               9365.5            1590.511   \n",
       "20132                   712.0              15833.5             402.752   \n",
       "20133                   854.0               4756.0            1905.459   \n",
       "\n",
       "       dom_size  boot_up_time  first_meaningful_paint  speed_index  \\\n",
       "0         866.0      2133.756                   782.0  2521.267095   \n",
       "1         648.0      1202.386                  1444.5  1657.511519   \n",
       "2        1000.0       802.110                  1194.0  2394.270927   \n",
       "3        1065.0      2999.316                   660.0  3909.520193   \n",
       "4        1662.0      4866.185                   740.0  6013.176555   \n",
       "...         ...           ...                     ...          ...   \n",
       "20129    1921.0      2567.223                  1612.0  1637.243066   \n",
       "20130    1184.0      3168.110                  1219.0  4341.616309   \n",
       "20131    2298.0      4762.252                   953.0  4540.687065   \n",
       "20132    1077.0      9590.345                  1077.0  6676.864039   \n",
       "20133    5817.0      3503.440                  2775.5  4414.815834   \n",
       "\n",
       "       total_blocking_time  network_requests  total_byte_weight  \n",
       "0                    164.5             327.0          2837675.0  \n",
       "1                    256.5              54.0          1845731.0  \n",
       "2                    217.0             149.0          2652584.0  \n",
       "3                    179.5             304.0          3643357.0  \n",
       "4                    628.5             633.0          5849438.0  \n",
       "...                    ...               ...                ...  \n",
       "20129                973.5              85.0          1832888.0  \n",
       "20130                208.0             575.0          5890014.0  \n",
       "20131                625.5             457.0          6759435.0  \n",
       "20132                667.5            1093.0          7843296.0  \n",
       "20133                748.5              89.0          3513270.0  \n",
       "\n",
       "[20134 rows x 10 columns]"
      ]
     },
     "execution_count": 22,
     "metadata": {},
     "output_type": "execute_result"
    }
   ],
   "source": [
    "final_validation_dataset.drop(columns = \"index\")"
   ]
  },
  {
   "cell_type": "code",
   "execution_count": 31,
   "metadata": {},
   "outputs": [],
   "source": [
    "final_validation_dataset_y = final_validation_dataset.speed_index"
   ]
  },
  {
   "cell_type": "code",
   "execution_count": 32,
   "metadata": {},
   "outputs": [],
   "source": [
    "final_validation_dataset_X = final_validation_dataset.drop(columns = [\"speed_index\", \"index\"])"
   ]
  },
  {
   "cell_type": "code",
   "execution_count": 33,
   "metadata": {},
   "outputs": [
    {
     "name": "stdout",
     "output_type": "stream",
     "text": [
      "R^2 error for a optimised model on the final validation dataset is 0.8\n"
     ]
    }
   ],
   "source": [
    "print(f'R^2 error for a optimised model on the final validation dataset is {round(r2_score(final_validation_dataset_y,rand_forest_opt.predict(final_validation_dataset_X)),2)}')"
   ]
  },
  {
   "cell_type": "markdown",
   "metadata": {},
   "source": [
    "This is a good result as it shows our final model generalises well with an accuracy of 80% on the final validation dataset."
   ]
  },
  {
   "cell_type": "code",
   "execution_count": null,
   "metadata": {},
   "outputs": [],
   "source": []
  }
 ],
 "metadata": {
  "kernelspec": {
   "display_name": "Python [conda env:learn-env] *",
   "language": "python",
   "name": "conda-env-learn-env-py"
  },
  "language_info": {
   "codemirror_mode": {
    "name": "ipython",
    "version": 3
   },
   "file_extension": ".py",
   "mimetype": "text/x-python",
   "name": "python",
   "nbconvert_exporter": "python",
   "pygments_lexer": "ipython3",
   "version": "3.6.6"
  }
 },
 "nbformat": 4,
 "nbformat_minor": 4
}
