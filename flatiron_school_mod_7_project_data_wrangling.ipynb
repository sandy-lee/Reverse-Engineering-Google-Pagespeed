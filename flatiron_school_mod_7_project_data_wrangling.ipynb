{
 "cells": [
  {
   "cell_type": "markdown",
   "metadata": {},
   "source": [
    "# Flatiron School Mod_7 project - EDA Notebook"
   ]
  },
  {
   "cell_type": "code",
   "execution_count": null,
   "metadata": {},
   "outputs": [],
   "source": [
    "import pandas as pd\n",
    "import numpy as np"
   ]
  },
  {
   "cell_type": "markdown",
   "metadata": {},
   "source": [
    "### Import pagespeed result CSVs"
   ]
  },
  {
   "cell_type": "code",
   "execution_count": null,
   "metadata": {},
   "outputs": [],
   "source": [
    "df_0_11092 = pd.read_csv(\"pagespeed_csvs/pagespeed_results_0_11092.csv\")\n",
    "df_11093_22367 = pd.read_csv(\"pagespeed_csvs/pagespeed_results_11093_22367.csv\")\n",
    "df_22368_33541 = pd.read_csv(\"pagespeed_csvs/pagespeed_results_22368_33541.csv\")\n",
    "df_33541_38867 = pd.read_csv(\"pagespeed_csvs/pagespeed_results_33541_38867.csv\")\n",
    "df_38868_50127 = pd.read_csv(\"pagespeed_csvs/pagespeed_results_38868_50127.csv\")\n",
    "df_61634_72964 = pd.read_csv(\"pagespeed_csvs/pagespeed_results_61364_72964.csv\")\n",
    "df_72965_84057 = pd.read_csv(\"pagespeed_csvs/pagespeed_results_72965_84057.csv\")\n",
    "df_84058_88113 = pd.read_csv(\"pagespeed_csvs/pagespeed_results_84058_88113.csv\")"
   ]
  },
  {
   "cell_type": "markdown",
   "metadata": {},
   "source": [
    "### Merge pagespeed data dataframes"
   ]
  },
  {
   "cell_type": "code",
   "execution_count": null,
   "metadata": {},
   "outputs": [],
   "source": [
    "pagespeed_df = pd.concat([df_0_11092, \n",
    "                          df_11093_22367, \n",
    "                          df_22368_33541, \n",
    "                          df_33541_38867, \n",
    "                          df_38868_50127, \n",
    "                          df_61634_72964, \n",
    "                          df_72965_84057, \n",
    "                          df_84058_88113])"
   ]
  },
  {
   "cell_type": "markdown",
   "metadata": {},
   "source": [
    "### Reset index & drop duplicated index"
   ]
  },
  {
   "cell_type": "code",
   "execution_count": null,
   "metadata": {},
   "outputs": [],
   "source": [
    "pagespeed_df.reset_index(inplace = True)\n",
    "pagespeed_df.drop(labels = \"index\", inplace = True, axis = 1)"
   ]
  },
  {
   "cell_type": "markdown",
   "metadata": {},
   "source": [
    "### Drop duplicate rows"
   ]
  },
  {
   "cell_type": "code",
   "execution_count": null,
   "metadata": {},
   "outputs": [],
   "source": [
    "pagespeed_df.drop_duplicates(subset = 'URL',keep='first', inplace=True)"
   ]
  },
  {
   "cell_type": "markdown",
   "metadata": {},
   "source": [
    "### Drop columns with null values"
   ]
  },
  {
   "cell_type": "code",
   "execution_count": null,
   "metadata": {},
   "outputs": [],
   "source": [
    "pagespeed_df.dropna(inplace=True)"
   ]
  },
  {
   "cell_type": "markdown",
   "metadata": {},
   "source": [
    "### Set index to the URL for joining"
   ]
  },
  {
   "cell_type": "code",
   "execution_count": null,
   "metadata": {},
   "outputs": [],
   "source": [
    "pagespeed_df.set_index(\"URL\")"
   ]
  },
  {
   "cell_type": "markdown",
   "metadata": {},
   "source": [
    "### Correct datatypes"
   ]
  },
  {
   "cell_type": "code",
   "execution_count": null,
   "metadata": {},
   "outputs": [],
   "source": [
    "for index in range(1,10):\n",
    "    pagespeed_df.iloc[:,index] = pagespeed_df.iloc[:,index].astype(np.float64)"
   ]
  },
  {
   "cell_type": "markdown",
   "metadata": {},
   "source": [
    "### Final Pagespeed Dataframe"
   ]
  },
  {
   "cell_type": "code",
   "execution_count": null,
   "metadata": {},
   "outputs": [],
   "source": [
    "pagespeed_df.info()"
   ]
  },
  {
   "cell_type": "code",
   "execution_count": null,
   "metadata": {},
   "outputs": [],
   "source": [
    "#TODO: check units of all columns\n",
    "#TODO: give more meaningful column names"
   ]
  },
  {
   "cell_type": "markdown",
   "metadata": {},
   "source": [
    "### Import Ranking data csv"
   ]
  },
  {
   "cell_type": "code",
   "execution_count": null,
   "metadata": {},
   "outputs": [],
   "source": [
    "serp_df = pd.read_csv(\"serp_results_csvs/serp_results.csv\")"
   ]
  },
  {
   "cell_type": "markdown",
   "metadata": {},
   "source": [
    "### Drop irrelevant columns"
   ]
  },
  {
   "cell_type": "code",
   "execution_count": null,
   "metadata": {},
   "outputs": [],
   "source": [
    "serp_df.drop(columns=\"Unnamed: 0\", inplace=True)"
   ]
  },
  {
   "cell_type": "markdown",
   "metadata": {},
   "source": [
    "### Rename column and set index for join"
   ]
  },
  {
   "cell_type": "code",
   "execution_count": null,
   "metadata": {},
   "outputs": [],
   "source": [
    "serp_df.rename(columns = {'result':'URL'}, inplace = True)\n",
    "serp_df.set_index(\"URL\");"
   ]
  },
  {
   "cell_type": "code",
   "execution_count": null,
   "metadata": {},
   "outputs": [],
   "source": [
    "final_df = pagespeed_df.join(serp_df)"
   ]
  },
  {
   "cell_type": "code",
   "execution_count": null,
   "metadata": {},
   "outputs": [],
   "source": [
    "serp_df.info()"
   ]
  },
  {
   "cell_type": "code",
   "execution_count": null,
   "metadata": {},
   "outputs": [],
   "source": [
    "#TODO: read https://www.datacamp.com/community/tutorials/joining-dataframes-pandas and do a join"
   ]
  }
 ],
 "metadata": {
  "kernelspec": {
   "display_name": "Python [conda env:learn-env] *",
   "language": "python",
   "name": "conda-env-learn-env-py"
  },
  "language_info": {
   "codemirror_mode": {
    "name": "ipython",
    "version": 3
   },
   "file_extension": ".py",
   "mimetype": "text/x-python",
   "name": "python",
   "nbconvert_exporter": "python",
   "pygments_lexer": "ipython3",
   "version": "3.6.6"
  }
 },
 "nbformat": 4,
 "nbformat_minor": 4
}
